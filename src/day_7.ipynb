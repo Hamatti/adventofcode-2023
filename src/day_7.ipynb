{
 "cells": [
  {
   "cell_type": "markdown",
   "id": "658bfb0a",
   "metadata": {},
   "source": [
    "## Modeling!\n",
    "\n",
    "I've built my fair share of different card game models for programming courses and puzzles like these so I knew I wanna make the hand of cards into a class that knows its own value and can be sorted with other Hands.\n",
    "\n",
    "I first build an [Enum](https://docs.python.org/3/library/enum.html) for the values of different hands. This way, we can deal with named hands and only refer to their ranking when needed for sorting. Better hand, higher value.\n",
    "\n",
    "Next, I created a dictionary to map characters into their numeric values. This is also used for sorting only."
   ]
  },
  {
   "cell_type": "code",
   "execution_count": 1,
   "id": "c98900e7",
   "metadata": {},
   "outputs": [],
   "source": [
    "from enum import Enum\n",
    "\n",
    "\n",
    "class HandValue(Enum):\n",
    "    HIGH_CARD = 1\n",
    "    ONE_PAIR = 2\n",
    "    TWO_PAIRS = 3\n",
    "    THREE_OF_A_KIND = 4\n",
    "    FULL_HOUSE = 5\n",
    "    FOUR_OF_A_KIND = 6\n",
    "    FIVE_OF_A_KIND = 7\n",
    "\n",
    "NUMERIC_VALUES = {\n",
    "    '2': 2,\n",
    "    '3': 3,\n",
    "    '4': 4,\n",
    "    '5': 5,\n",
    "    '6': 6,\n",
    "    '7': 7, \n",
    "    '8': 8,\n",
    "    '9': 9,\n",
    "    'T': 10,\n",
    "    'J': 11,\n",
    "    'Q': 12,\n",
    "    'K': 13,\n",
    "    'A': 14\n",
    "}"
   ]
  },
  {
   "cell_type": "markdown",
   "id": "a07bb2c9",
   "metadata": {},
   "source": [
    "For the `Hand` class, I store the cards themselves, a [set](https://docs.python.org/3/library/stdtypes.html#set) of them and a card count [Counter](https://docs.python.org/3/library/collections.html#collections.Counter).\n",
    "\n",
    "I then built a function for each hand type (except the `HIGH_CARD` which is default if nothing else is met.\n",
    "\n",
    "To get the value of a hand, I go down from the best hand to worst, and check until a match is found.\n",
    "\n",
    "To compare two hands, they are either sorted by their full hand value and if that is the same, card by card by their numeric value."
   ]
  },
  {
   "cell_type": "code",
   "execution_count": 2,
   "id": "c36f2a37",
   "metadata": {},
   "outputs": [],
   "source": [
    "from collections import Counter\n",
    "\n",
    "\n",
    "class Hand:\n",
    "    \n",
    "    def __init__(self, cards):\n",
    "        self.cards = list(cards)\n",
    "        self.card_set = set(cards)\n",
    "        self.card_counts = Counter(cards)\n",
    "        self.value = self.get_value()\n",
    "        self.numeric_values = NUMERIC_VALUES\n",
    "        \n",
    "    def is_five_of_a_kind(self):\n",
    "        return len(self.card_set) == 1\n",
    "    \n",
    "    def is_four_of_a_kind(self):\n",
    "        if len(self.card_set) != 2:\n",
    "            return False\n",
    "        return any(c for c in self.card_counts.values() if c == 4)\n",
    "    \n",
    "    def is_full_house(self):\n",
    "        has_triplet = any(c for c in self.card_counts.values() if c == 3)\n",
    "        has_pair = any(c for c in self.card_counts.values() if c == 2)\n",
    "        return has_triplet and has_pair\n",
    "    \n",
    "    def is_three_of_a_kind(self):\n",
    "        return any(c for c in self.card_counts.values() if c == 3)\n",
    "    \n",
    "    def is_two_pairs(self):\n",
    "        pairs = [c for c in self.card_counts.values() if c == 2]\n",
    "        return len(pairs) == 2\n",
    "    \n",
    "    def is_one_pair(self):\n",
    "        pairs = [c for c in self.card_counts.values() if c == 2]\n",
    "        return len(pairs) == 1\n",
    "        \n",
    "    def get_value(self):\n",
    "        if self.is_five_of_a_kind():\n",
    "            return HandValue.FIVE_OF_A_KIND\n",
    "        if self.is_four_of_a_kind():\n",
    "            return HandValue.FOUR_OF_A_KIND\n",
    "        if self.is_full_house():\n",
    "            return HandValue.FULL_HOUSE\n",
    "        if self.is_three_of_a_kind():\n",
    "            return HandValue.THREE_OF_A_KIND\n",
    "        if self.is_two_pairs():\n",
    "            return HandValue.TWO_PAIRS\n",
    "        if self.is_one_pair():\n",
    "            return HandValue.ONE_PAIR\n",
    "        \n",
    "        return HandValue.HIGH_CARD\n",
    "    \n",
    "    def __lt__(self, other):\n",
    "        if self.value.value != other.value.value:\n",
    "            return self.value.value < other.value.value\n",
    "        else:\n",
    "            for c1, c2 in zip(self.cards, other.cards):\n",
    "                c1_value = self.numeric_values[c1]\n",
    "                c2_value = self.numeric_values[c2]\n",
    "                if c1_value == c2_value:\n",
    "                    continue\n",
    "                return c1_value < c2_value\n",
    "    \n",
    "    def __repr__(self):\n",
    "        return f'<Hand: {\"\".join(self.cards)} {self.value}>'"
   ]
  },
  {
   "cell_type": "markdown",
   "id": "85afeb7a",
   "metadata": {},
   "source": [
    "## Read input\n",
    "\n",
    "Today's input is simple. Each line has the cards and the bid separated by space. I convert the cards to a `Hand` and bid to an `int`."
   ]
  },
  {
   "cell_type": "code",
   "execution_count": 3,
   "id": "c4d985a6",
   "metadata": {},
   "outputs": [],
   "source": [
    "from utils import read_input\n",
    "\n",
    "\n",
    "def transformer(line):\n",
    "    hand, bid = line.split(' ')\n",
    "    hand = Hand(hand)\n",
    "    bid = int(bid)\n",
    "    return hand, bid\n",
    "\n",
    "hands = read_input(7, transformer)"
   ]
  },
  {
   "cell_type": "markdown",
   "id": "9449e616",
   "metadata": {},
   "source": [
    "To solve the first part, I loop over all the hands in sorted order and multiply their rank with their bid."
   ]
  },
  {
   "cell_type": "code",
   "execution_count": 4,
   "id": "7869b22d",
   "metadata": {
    "scrolled": true
   },
   "outputs": [
    {
     "name": "stdout",
     "output_type": "stream",
     "text": [
      "253205868\n"
     ]
    }
   ],
   "source": [
    "part_1 = 0\n",
    "for i, (hand, bid) in enumerate(sorted(hands)):\n",
    "    part_1 += (i+1) * bid\n",
    "print(part_1)\n",
    "assert part_1 == 253205868"
   ]
  },
  {
   "cell_type": "markdown",
   "id": "b9870dfe",
   "metadata": {},
   "source": [
    "## Part 2\n",
    "\n",
    ">To make things a little more interesting, the Elf introduces one additional rule. Now, J cards are jokers - wildcards that can act like whatever card would make the hand the strongest type possible.\n",
    ">\n",
    ">To balance this, J cards are now the weakest individual cards, weaker even than 2. The other cards stay in the same order: A, K, Q, T, 9, 8, 7, 6, 5, 4, 3, 2, J.\n",
    ">\n",
    ">J cards can pretend to be whatever card is best for the purpose of determining hand type; for example, QJJQ2 is now considered four of a kind. However, for the purpose of breaking ties between two hands of the same type, J is always treated as J, not the card it's pretending to be: JKKK2 is weaker than QQQQ2 because J is weaker than Q.\n",
    ">\n",
    ">Now, the above example goes very differently:\n",
    ">```\n",
    "32T3K 765\n",
    "T55J5 684\n",
    "KK677 28\n",
    "KTJJT 220\n",
    "QQQJA 483\n",
    ">```\n",
    ">- 32T3K is still the only one pair; it doesn't contain any jokers, so its strength doesn't increase.\n",
    ">- KK677 is now the only two pair, making it the second-weakest hand.\n",
    ">- T55J5, KTJJT, and QQQJA are now all four of a kind! T55J5 gets rank 3, QQQJA gets rank 4, and KTJJT gets rank 5.\n",
    ">\n",
    ">With the new joker rule, the total winnings in this example are 5905.\n",
    ">\n",
    ">Using the new joker rule, find the rank of every hand in your set. What are the new total winnings>?"
   ]
  },
  {
   "cell_type": "markdown",
   "id": "198976c7",
   "metadata": {},
   "source": [
    "For this second part, the only changes needed to make are in the modeling.\n",
    "\n",
    "First, we drop the value of 'J' cards to zero for sorting.\n",
    "\n",
    "Second, thanks to inheritance, we only need to rewrite the methods that are changed by the addition of Joker cards. Notably, two pairs does not change because it can never happen with a Joker as that Joker would turn it into a three of a kind.\n",
    "\n",
    "Setting up, finding hand value and making comparisons all remain mostly unaffected. We add a `self.joker` attribute for the Joker hand and use `JOKER_NUMERIC_VALUES` for comparison instead of `NUMERIC_VALUES`."
   ]
  },
  {
   "cell_type": "code",
   "execution_count": 5,
   "id": "b11ab080",
   "metadata": {},
   "outputs": [],
   "source": [
    "from collections import Counter\n",
    "\n",
    "JOKER_NUMERIC_VALUES = NUMERIC_VALUES.copy()\n",
    "JOKER_NUMERIC_VALUES['J'] = 0\n",
    "\n",
    "\n",
    "class JokerHand(Hand):\n",
    "    \n",
    "    def __init__(self, cards):\n",
    "        self.joker = 'J' in cards\n",
    "        super().__init__(cards)\n",
    "        self.numeric_values = JOKER_NUMERIC_VALUES\n",
    "        \n",
    "    def is_five_of_a_kind(self):\n",
    "        if not self.joker:\n",
    "            return len(self.card_set) == 1\n",
    "        return len(self.card_set) <= 2 \n",
    "    \n",
    "    def is_four_of_a_kind(self):\n",
    "        if not self.joker:\n",
    "            if len(self.card_set) != 2:\n",
    "                return False\n",
    "            return any(c for c in self.card_counts.values() if c == 4)\n",
    "        return any(count for card, count in self.card_counts.items() if count == 4 - self.cards.count('J') and card != 'J')\n",
    "\n",
    "    def is_full_house(self):\n",
    "        has_triplet = any(c for c in self.card_counts.values() if c == 3)\n",
    "        has_pair = any(c for c in self.card_counts.values() if c == 2)\n",
    "        full_house = has_triplet and has_pair\n",
    "        if full_house:\n",
    "            return True\n",
    "        elif not full_house and not self.joker:\n",
    "            return False\n",
    "        else: # Not a natural full house but has joker so it might still be\n",
    "            pairs = [card for card, count in self.card_counts.items() if count == 2]\n",
    "            return len(pairs) == 2\n",
    "            \n",
    "    def is_three_of_a_kind(self):\n",
    "        return any(c for c in self.card_counts.values() if c == 3 - self.cards.count('J'))\n",
    "    \n",
    "    def is_one_pair(self):\n",
    "        if self.joker:\n",
    "            return True\n",
    "        pairs = [c for c in self.card_counts.values() if c == 2]\n",
    "        return len(pairs) == 1"
   ]
  },
  {
   "cell_type": "markdown",
   "id": "11cfc5c5",
   "metadata": {},
   "source": [
    "When reading input, we convert hands into `JokerHand`s instead and otherwise it's the same."
   ]
  },
  {
   "cell_type": "code",
   "execution_count": 6,
   "id": "6eeecc83",
   "metadata": {},
   "outputs": [],
   "source": [
    "def transformer(line):\n",
    "    hand, bid = line.split(' ')\n",
    "    hand = JokerHand(hand)\n",
    "    bid = int(bid)\n",
    "    return hand, bid\n",
    "\n",
    "jokerhands = read_input(7, transformer)"
   ]
  },
  {
   "cell_type": "markdown",
   "id": "40a84e9e",
   "metadata": {},
   "source": [
    "The actual solution is exactly the same at this point than part 1."
   ]
  },
  {
   "cell_type": "code",
   "execution_count": 7,
   "id": "0e8948ef",
   "metadata": {},
   "outputs": [
    {
     "name": "stdout",
     "output_type": "stream",
     "text": [
      "253907829\n"
     ]
    }
   ],
   "source": [
    "part_2 = 0\n",
    "for i, (hand, bid) in enumerate(sorted(jokerhands)):\n",
    "    part_2 += (i+1) * bid\n",
    "print(part_2)\n",
    "assert part_2 == 253907829"
   ]
  },
  {
   "cell_type": "markdown",
   "id": "bfb52645",
   "metadata": {},
   "source": [
    "## Two stars!\n",
    "\n",
    "7 days, 14 stars. Woohoo! 36 to go."
   ]
  }
 ],
 "metadata": {
  "kernelspec": {
   "display_name": "Python 3 (ipykernel)",
   "language": "python",
   "name": "python3"
  },
  "language_info": {
   "codemirror_mode": {
    "name": "ipython",
    "version": 3
   },
   "file_extension": ".py",
   "mimetype": "text/x-python",
   "name": "python",
   "nbconvert_exporter": "python",
   "pygments_lexer": "ipython3",
   "version": "3.10.0"
  }
 },
 "nbformat": 4,
 "nbformat_minor": 5
}
