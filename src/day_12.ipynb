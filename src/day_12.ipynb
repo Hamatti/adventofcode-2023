{
 "cells": [
  {
   "cell_type": "markdown",
   "id": "091994d7",
   "metadata": {},
   "source": [
    "> # Day 12: Hot Springs\n",
    ">\n",
    "> You finally reach the hot springs! You can see steam rising from secluded areas attached to the primary, ornate building.\n",
    ">\n",
    "> As you turn to enter, the researcher stops you. \"Wait - I thought you were looking for the hot springs, weren't you?\" You indicate that this definitely looks like hot springs to you.\n",
    ">\n",
    "> \"Oh, sorry, common mistake! This is actually the onsen! The hot springs are next door.\"\n",
    ">\n",
    "> You look in the direction the researcher is pointing and suddenly notice the massive metal helixes towering overhead. \"This way!\"\n",
    ">\n",
    "> It only takes you a few more steps to reach the main gate of the massive fenced-off area containing the springs. You go through the gate and into a small administrative building.\n",
    ">\n",
    "> \"Hello! What brings you to the hot springs today? Sorry they're not very hot right now; we're having a lava shortage at the moment.\" You ask about the missing machine parts for Desert Island.\n",
    ">\n",
    "> \"Oh, all of Gear Island is currently offline! Nothing is being manufactured at the moment, not until we get more lava to heat our forges. And our springs. The springs aren't very springy unless they're hot!\"\n",
    ">\n",
    "> \"Say, could you go up and see why the lava stopped flowing? The springs are too cold for normal operation, but we should be able to find one springy enough to launch you up there!\"\n",
    ">\n",
    "> There's just one problem - many of the springs have fallen into disrepair, so they're not actually sure which springs would even be safe to use! Worse yet, their condition records of which springs are damaged (your puzzle input) are also damaged! You'll need to help them repair the damaged records.\n",
    ">\n",
    "> In the giant field just outside, the springs are arranged into rows. For each row, the condition records show every spring and whether it is operational (.) or damaged (#). This is the part of the condition records that is itself damaged; for some springs, it is simply unknown (?) whether the spring is operational or damaged.\n",
    ">\n",
    "> However, the engineer that produced the condition records also duplicated some of this information in a different format! After the list of springs for a given row, the size of each contiguous group of damaged springs is listed in the order those groups appear in the row. This list always accounts for every damaged spring, and each number is the entire size of its contiguous group (that is, groups are always separated by at least one operational spring: #### would always be 4, never 2,2).\n",
    ">\n",
    "> So, condition records with no unknown spring conditions might look like this:\n",
    ">\n",
    "> ```\n",
    "> #.#.### 1,1,3\n",
    "> .#...#....###. 1,1,3\n",
    "> .#.###.#.###### 1,3,1,6\n",
    "> ####.#...#... 4,1,1\n",
    "> #....######..#####. 1,6,5\n",
    "> .###.##....# 3,2,1\n",
    "> ```\n",
    ">\n",
    "> However, the condition records are partially damaged; some of the springs' conditions are actually unknown (?). For example:\n",
    ">\n",
    "> ```\n",
    "> ???.### 1,1,3\n",
    "> .??..??...?##. 1,1,3\n",
    "> ?#?#?#?#?#?#?#? 1,3,1,6\n",
    "> ????.#...#... 4,1,1\n",
    "> ????.######..#####. 1,6,5\n",
    "> ?###???????? 3,2,1\n",
    "> ```\n",
    ">\n",
    "> Equipped with this information, it is your job to figure out how many different arrangements of operational and broken springs fit the given criteria in each row.\n",
    ">\n",
    "> In the first line (???.### 1,1,3), there is exactly one way separate groups of one, one, and three broken springs (in that order) can appear in that row: the first three unknown springs must be broken, then operational, then broken (#.#), making the whole row #.#.###.\n",
    ">\n",
    "> The second line is more interesting: .??..??...?##. 1,1,3 could be a total of four different arrangements. The last ? must always be broken (to satisfy the final contiguous group of three broken springs), and each ?? must hide exactly one of the two broken springs. (Neither ?? could be both broken springs or they would form a single contiguous group of two; if that were true, the numbers afterward would have been 2,3 instead.) Since each ?? can either be #. or .#, there are four possible arrangements of springs.\n",
    ">\n",
    "> The last line is actually consistent with ten different arrangements! Because the first number is 3, the first and second ? must both be . (if either were #, the first number would have to be 4 or higher). However, the remaining run of unknown spring conditions have many different ways they could hold groups of two and one broken springs:\n",
    ">\n",
    "> ```\n",
    "> ?###???????? 3,2,1\n",
    "> .###.##.#...\n",
    "> .###.##..#..\n",
    "> .###.##...#.\n",
    "> .###.##....#\n",
    "> .###..##.#..\n",
    "> .###..##..#.\n",
    "> .###..##...#\n",
    "> .###...##.#.\n",
    "> .###...##..#\n",
    "> .###....##.#\n",
    "> ```\n",
    ">\n",
    "> In this example, the number of possible arrangements for each row is:\n",
    ">\n",
    "> - `???.### 1,1,3` - 1 arrangement\n",
    "> - `.??..??...?##. 1,1,3` - 4 arrangements\n",
    "> - `?#?#?#?#?#?#?#? 1,3,1,6` - 1 arrangement\n",
    "> - `????.#...#... 4,1,1` - 1 arrangement\n",
    "> - `????.######..#####. 1,6,5` - 4 arrangements\n",
    "> - `?###???????? 3,2,1` - 10 arrangements\n",
    ">\n",
    "> Adding all of the possible arrangement counts together produces a total of 21 arrangements.\n",
    ">\n",
    "> For each row, count all of the different arrangements of operational and broken springs that meet the given criteria. What is the sum of those counts?\n"
   ]
  },
  {
   "cell_type": "markdown",
   "id": "872b35d9",
   "metadata": {},
   "source": [
    "[Nonograms](https://en.wikipedia.org/wiki/Nonogram)! Well, kind of almost. I love solving nonogram puzzles but I have no clue how to solve them programmatically. Let's see how today's puzzle goes."
   ]
  },
  {
   "cell_type": "markdown",
   "id": "7f63d15d",
   "metadata": {},
   "source": [
    "## Read input\n",
    "\n",
    "The input is two space separated sections: row of springs and notes of what kind of groups of damaged springs are included in each row. The conversion of notes to a `tuple` is required for caching in part 2."
   ]
  },
  {
   "cell_type": "code",
   "execution_count": 1,
   "id": "8f436549",
   "metadata": {},
   "outputs": [],
   "source": [
    "from utils import read_input\n",
    "\n",
    "\n",
    "def transformer(line):\n",
    "    springs, notes = line.split(' ')\n",
    "    notes = [int(v) for v in notes.split(',')]\n",
    "    return springs, tuple(notes)\n",
    "\n",
    "hot_springs = read_input(12, transformer)"
   ]
  },
  {
   "cell_type": "markdown",
   "id": "cf541409",
   "metadata": {},
   "source": [
    "## Part 1\n",
    "\n",
    "I started with a \"let's try every possible combination and see how many are valid\".\n",
    "\n",
    "An order of springs is valid if the lengths of damaged groups matches the group sizes in our notes.\n",
    "\n",
    "For each row, I check how many unknowns there are and generate all possible ways to replace them with `OPERATIONAL` (`.`) and `DAMAGED` (`#`) springs. To do this, I use [itertools.product](https://docs.python.org/3/library/itertools.html#itertools.product) that here takes an iterable and how long outputs we want.\n",
    "\n",
    "Then I check if this new grouping is valid.\n",
    "\n",
    "(I'm using `class Spring` instead of individual constants because of how Python's pattern matching (that I use in part 2) functions.)"
   ]
  },
  {
   "cell_type": "code",
   "execution_count": 2,
   "id": "a90dad0c",
   "metadata": {},
   "outputs": [],
   "source": [
    "from itertools import product\n",
    "\n",
    "\n",
    "class Spring:\n",
    "    OPERATIONAL = '.'\n",
    "    DAMAGED = '#'\n",
    "    UNKNOWN = '?'\n",
    "\n",
    "def is_valid_order(springs, damaged):\n",
    "    damaged_springs = [len(s) for s in springs.split(Spring.OPERATIONAL) if s]\n",
    "    return damaged_springs == list(damaged)\n",
    "\n",
    "def find_valid_ones(springs, notes):\n",
    "    valid_ones = 0\n",
    "    unknowns = springs.count(Spring.UNKNOWN)\n",
    "    options = product(Spring.OPERATIONAL + Spring.DAMAGED, repeat=unknowns)\n",
    "    for opt in options:\n",
    "        new_springs = springs\n",
    "        for char in opt:\n",
    "            new_springs = new_springs.replace(Spring.UNKNOWN, char, 1)\n",
    "        if is_valid_order(new_springs, notes):\n",
    "            valid_ones += 1\n",
    "    return valid_ones"
   ]
  },
  {
   "cell_type": "markdown",
   "id": "2051cc51",
   "metadata": {},
   "source": [
    "This approach took roughly 15-20 seconds. Which was slow but decent enough to get the first star. I wanted to keep this approach here for the sake of it being the right answer."
   ]
  },
  {
   "cell_type": "code",
   "execution_count": 3,
   "id": "f19b36f9",
   "metadata": {},
   "outputs": [
    {
     "name": "stdout",
     "output_type": "stream",
     "text": [
      "Solution: 7286\n"
     ]
    }
   ],
   "source": [
    "part_1 = 0\n",
    "for springs, notes in hot_springs:\n",
    "    part_1 += find_valid_ones(springs, notes)\n",
    "\n",
    "print(f'Solution: {part_1}')\n",
    "assert part_1 == 7286"
   ]
  },
  {
   "cell_type": "markdown",
   "id": "a5492988",
   "metadata": {},
   "source": [
    "## Part 2\n",
    "\n",
    "> As you look out at the field of springs, you feel like there are way more springs than the condition records list. When you examine the records, you discover that they were actually folded up this whole time!\n",
    ">\n",
    "> To unfold the records, on each row, replace the list of spring conditions with five copies of itself (separated by ?) and replace the list of contiguous groups of damaged springs with five copies of itself (separated by ,).\n",
    ">\n",
    "> So, this row:\n",
    ">\n",
    "> `.# 1`\n",
    ">\n",
    "> Would become:\n",
    ">\n",
    "> `.#?.#?.#?.#?.# 1,1,1,1,1`\n",
    ">\n",
    "> The first line of the above example would become:\n",
    ">\n",
    "> `???.###????.###????.###????.###????.### 1,1,3,1,1,3,1,1,3,1,1,3,1,1,3`\n",
    ">\n",
    "> In the above example, after unfolding, the number of possible arrangements for some rows is now much larger:\n",
    ">\n",
    "> - `???.### 1,1,3` - 1 arrangement\n",
    "> - `.??..??...?##. 1,1,3` - 16384 arrangements\n",
    "> - `?#?#?#?#?#?#?#? 1,3,1,6` - 1 arrangement\n",
    "> - `????.#...#... 4,1,1` - 16 arrangements\n",
    "> - `????.######..#####. 1,6,5` - 2500 arrangements\n",
    "> - `?###???????? 3,2,1` - 506250 arrangements\n",
    ">\n",
    "> After unfolding, adding all of the possible arrangement counts together produces 525152.\n",
    ">\n",
    "> Unfold your condition records; what is the new sum of possible arrangement counts?\n"
   ]
  },
  {
   "cell_type": "markdown",
   "id": "212c5e39",
   "metadata": {},
   "source": [
    "Given how slow my initial solution was, there was no way to use it for this second part.\n",
    "\n",
    "Instead, I was pointed towards a recursive solution. To speed up the solution significantly, I use [functools.cache](https://docs.python.org/3/library/functools.html#functools.cache). It works by memoizing the result for a set of arguments. This is why we needed to use `tuple` instead of `list` when parsing the input as `list` is not cacheable.\n",
    "\n",
    "The function itself has a lot of branching paths.\n",
    "\n",
    "### Base cases\n",
    "\n",
    "Its first two base cases happen when there's no more springs to consider. If we finish them while we are within a group of damaged springs, the result is `1` if there's only one group note left and it matches our current count. Alternatively, if we finish and we are outside of damaged springs, the result is `1` if there's no more notes left.\n",
    "\n",
    "The third base case is if our current count is higher than the next noted one (or if we ran out of notes). In this case, it's not a valid one so we return `0`.\n",
    "\n",
    "### Others based on next spring\n",
    "\n",
    "If none of the base cases match, we move forward based on what the next spring is. For that, we have three options: an operational (`.`), a damaged (`#`) or an unknown (`?`) spring.\n",
    "\n",
    "**operational**: If we are in the middle of a count (meaning at least the previous was damaged and our `count` is over 0), we check if the count matches the first note. If it doesn't, we return 0 since that cannot be a valid arraignment. If it does, we move forward with that note removed. If we weren't in the middle of a count, we continue with the rest of the springs.\n",
    "\n",
    "**damaged**: This means we are either starting a new count or are in the middle of a count. Regardless, we drop the first spring and increment our count with 1.\n",
    "\n",
    "**unknown**: This one has the most complex cases. \n",
    "\n",
    "Our first case is when we no longer have notes or the current count matches the first group. If this happens, we continue with the rest of the springs and drop the first note. Effectively this means the spring is treated as `.`.\n",
    "\n",
    "The next case is when we are in the middle of a count. This treats the spring as `#`.\n",
    "\n",
    "The last case is when we are a potential start of a count. In this, spring could be either `.` or `#`. For this, we count both options.\n",
    "\n",
    "Finally, I have a case of invalid spring. Technically this is not required in Python but because I learned my pattern matching originally with Rust where you need to exhaust all options with pattern matching branches, I have a habit of doing it with Python as well. I think it's a good option because if I make a mistake and forget one branch, I get an error."
   ]
  },
  {
   "cell_type": "code",
   "execution_count": 4,
   "id": "480ce5fd",
   "metadata": {},
   "outputs": [],
   "source": [
    "from functools import cache\n",
    "\n",
    "\n",
    "@cache\n",
    "def how_many_valid_arraignments(springs, notes, count=0):\n",
    "    # All springs accounted for\n",
    "    if not springs and count > 0: # Last spring was damaged\n",
    "        if len(notes) == 1 and count == notes[0]:\n",
    "            return 1\n",
    "        else:\n",
    "            return 0\n",
    "    if not springs and count == 0: # Last spring was operational\n",
    "        if len(notes) == 0:\n",
    "            return 1\n",
    "        else: \n",
    "            return 0\n",
    "\n",
    "    # We saw more damaged springs in a row than there \n",
    "    # should be according to the notes so it is not valid\n",
    "    if count > 0 and (not notes or count > notes[0]):\n",
    "        return 0\n",
    "    \n",
    "    # So far everything's good but we have more springs to see\n",
    "    first, rest = springs[0], springs[1:]\n",
    "    match first:\n",
    "        case Spring.OPERATIONAL:\n",
    "            if count > 0: # We finished a run of damaged springs\n",
    "                if count != notes[0]:\n",
    "                    return 0\n",
    "                else: # Last spring was also operational\n",
    "                    notes = notes[1:]\n",
    "            return how_many_valid_arraignments(rest, notes, 0)\n",
    "        case Spring.DAMAGED:\n",
    "            # Increase damage count\n",
    "            return how_many_valid_arraignments(rest, notes, count + 1)\n",
    "        case Spring.UNKNOWN:\n",
    "            if not notes or count == notes[0]: # We finished a run of damaged springs\n",
    "                return how_many_valid_arraignments(rest, notes[1:], 0)\n",
    "            else:\n",
    "                if count > 0:\n",
    "                    # We are in the middle of a run of damaged springs\n",
    "                    return how_many_valid_arraignments(rest, notes, count + 1)\n",
    "                else:\n",
    "                    # This unknown could be a . or # so let's count both options\n",
    "                    return (how_many_valid_arraignments(rest, notes, count + 1) +\n",
    "                            how_many_valid_arraignments(rest, notes, count))\n",
    "        case _:\n",
    "            raise ValueError(f'{first} is an invalid spring')"
   ]
  },
  {
   "cell_type": "markdown",
   "id": "291643d2",
   "metadata": {},
   "source": [
    "For the second part, we need to modify the input.\n",
    "\n",
    "Springs are repeated 5 times with `?` in between each set. Notes are repeated five times.\n",
    "\n",
    "The calculations then are the same, this time using our much faster solution."
   ]
  },
  {
   "cell_type": "code",
   "execution_count": 5,
   "id": "c0fa199a",
   "metadata": {},
   "outputs": [
    {
     "name": "stdout",
     "output_type": "stream",
     "text": [
      "Solution: 25470469710341\n"
     ]
    }
   ],
   "source": [
    "from itertools import product\n",
    "\n",
    "\n",
    "part_2 = 0\n",
    "for springs, notes in hot_springs:\n",
    "    springs = '?'.join([springs] * 5)\n",
    "    notes = notes * 5\n",
    "    part_2 += how_many_valid_arraignments(springs, notes)\n",
    "\n",
    "print(f'Solution: {part_2}')\n",
    "assert part_2 == 25470469710341"
   ]
  },
  {
   "cell_type": "markdown",
   "id": "13064eab",
   "metadata": {},
   "source": [
    "## Two stars\n",
    "\n",
    "Today was quite a challenge. If I didn't write these explanations, I would have maybe gotten a right result but with a way worse understanding of why it works the way it does."
   ]
  }
 ],
 "metadata": {
  "kernelspec": {
   "display_name": "Python 3 (ipykernel)",
   "language": "python",
   "name": "python3"
  },
  "language_info": {
   "codemirror_mode": {
    "name": "ipython",
    "version": 3
   },
   "file_extension": ".py",
   "mimetype": "text/x-python",
   "name": "python",
   "nbconvert_exporter": "python",
   "pygments_lexer": "ipython3",
   "version": "3.10.0"
  }
 },
 "nbformat": 4,
 "nbformat_minor": 5
}
