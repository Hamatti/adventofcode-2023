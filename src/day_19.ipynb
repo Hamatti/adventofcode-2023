{
 "cells": [
  {
   "cell_type": "markdown",
   "id": "281fb3b0",
   "metadata": {},
   "source": [
    "> # Day 19: Aplenty\n",
    ">\n",
    ">The Elves of Gear Island are thankful for your help and send you on your way. They even have a hang glider that someone stole from Desert Island; since you're already going that direction, it would help them a lot if you would use it to get down there and return it to them.\n",
    ">\n",
    ">As you reach the bottom of the relentless avalanche of machine parts, you discover that they're already forming a formidable heap. Don't worry, though - a group of Elves is already here organizing the parts, and they have a system.\n",
    ">\n",
    ">To start, each part is rated in each of four categories:\n",
    ">\n",
    "> - `x`: Extremely cool looking\n",
    "> - `m`: Musical (it makes a noise when you hit it)\n",
    "> - `a`: Aerodynamic\n",
    "> - `s`: Shiny\n",
    ">\n",
    ">Then, each part is sent through a series of workflows that will ultimately accept or reject the part. Each workflow has a name and contains a list of rules; each rule specifies a condition and where to send the part if the condition is true. The first rule that matches the part being considered is applied immediately, and the part moves on to the destination described by the rule. (The last rule in each workflow has no condition and always applies if reached.)\n",
    ">\n",
    ">Consider the workflow ex{x>10:one,m<20:two,a>30:R,A}. This workflow is named ex and contains four rules. If workflow ex were considering a specific part, it would perform the following steps in order:\n",
    ">\n",
    "> - Rule \"x>10:one\": If the part's x is more than 10, send the part to the workflow named one.\n",
    "> - Rule \"m<20:two\": Otherwise, if the part's m is less than 20, send the part to the workflow named two.\n",
    "> - Rule \"a>30:R\": Otherwise, if the part's a is more than 30, the part is immediately rejected (R).\n",
    "> - Rule \"A\": Otherwise, because no other rules matched the part, the part is immediately accepted (A).\n",
    ">\n",
    ">If a part is sent to another workflow, it immediately switches to the start of that workflow instead and never returns. If a part is accepted (sent to A) or rejected (sent to R), the part immediately stops any further processing.\n",
    ">\n",
    ">The system works, but it's not keeping up with the torrent of weird metal shapes. The Elves ask if you can help sort a few parts and give you the list of workflows and some part ratings (your puzzle input). For example:\n",
    ">```\n",
    ">px{a<2006:qkq,m>2090:A,rfg}\n",
    ">pv{a>1716:R,A}\n",
    ">lnx{m>1548:A,A}\n",
    ">rfg{s<537:gd,x>2440:R,A}\n",
    ">qs{s>3448:A,lnx}\n",
    ">qkq{x<1416:A,crn}\n",
    ">crn{x>2662:A,R}\n",
    ">in{s<1351:px,qqz}\n",
    ">qqz{s>2770:qs,m<1801:hdj,R}\n",
    ">gd{a>3333:R,R}\n",
    ">hdj{m>838:A,pv}\n",
    ">\n",
    ">{x=787,m=2655,a=1222,s=2876}\n",
    ">{x=1679,m=44,a=2067,s=496}\n",
    ">{x=2036,m=264,a=79,s=2244}\n",
    ">{x=2461,m=1339,a=466,s=291}\n",
    ">{x=2127,m=1623,a=2188,s=1013}\n",
    ">```\n",
    ">The workflows are listed first, followed by a blank line, then the ratings of the parts the Elves would like you to sort. All parts begin in the workflow named in. In this example, the five listed parts go through the following workflows:\n",
    ">\n",
    "> - `{x=787,m=2655,a=1222,s=2876}`: in -> qqz -> qs -> lnx -> A\n",
    "> - `{x=1679,m=44,a=2067,s=496}`: in -> px -> rfg -> gd -> R\n",
    "> - `{x=2036,m=264,a=79,s=2244}`: in -> qqz -> hdj -> pv -> A\n",
    "> - `{x=2461,m=1339,a=466,s=291}`: in -> px -> qkq -> crn -> R\n",
    "> - `{x=2127,m=1623,a=2188,s=1013}`: in -> px -> rfg -> A\n",
    ">\n",
    ">Ultimately, three parts are accepted. Adding up the x, m, a, and s rating for each of the accepted parts gives 7540 for the part with x=787, 4623 for the part with x=2036, and 6951 for the part with x=2127. Adding all of the ratings for all of the accepted parts gives the sum total of 19114.\n",
    ">\n",
    ">Sort through all of the parts you've been given; what do you get if you add together all of the rating numbers for all of the parts that ultimately get accepted?\n",
    ">"
   ]
  },
  {
   "cell_type": "markdown",
   "id": "92810954",
   "metadata": {},
   "source": [
    "## Read input\n",
    "\n",
    "Today's input required quite a few steps to parse but those steps were rather straight-forward to me at least. In the first section, I parse the workflows by separating rules that have a condition and ones that don't (and create a custom condition of `*` for them. Having uniform structure for all rules makes the logic itself bit simpler.\n",
    "\n",
    "For ratings, I remove the curly braces and split to pairs and store them in a list of dictionaries.\n"
   ]
  },
  {
   "cell_type": "code",
   "execution_count": 1,
   "id": "24780137",
   "metadata": {},
   "outputs": [],
   "source": [
    "from utils import read_multisection_input\n",
    "import re\n",
    "\n",
    "def workflows(section):\n",
    "    rules = {}\n",
    "    for line in section.split('\\n'):\n",
    "        key, rest = line.split('{')\n",
    "        rest = rest.split('}')[0].split(',')\n",
    "        tests = []\n",
    "        for rule in rest:\n",
    "            if ':' in rule:\n",
    "                condition, target = rule.split(':')\n",
    "                attribute, operator, value = re.findall(r'(x|m|a|s)(<|>)(\\d+)', condition)[0]\n",
    "                condition = (attribute, operator, int(value))\n",
    "            else:\n",
    "                condition = '*'\n",
    "                target = rule\n",
    "            tests.append((condition, target))\n",
    "        rules[key] = tests\n",
    "    return rules\n",
    "        \n",
    "def ratings(section):\n",
    "    ratings_output = []\n",
    "    for line in section.split('\\n'):\n",
    "        line = line.replace('{', '').replace('}', '')\n",
    "        ratings = line.split(',')\n",
    "        r = {}\n",
    "        for rating in ratings:\n",
    "            key, value = rating.split('=')\n",
    "            value = int(value)\n",
    "            r[key] = value\n",
    "        ratings_output.append(r.copy())\n",
    "    return ratings_output\n",
    "        \n",
    "workflows, ratings = read_multisection_input(19, [workflows, ratings])"
   ]
  },
  {
   "cell_type": "markdown",
   "id": "6fc42ac3",
   "metadata": {},
   "source": [
    "To sort the matchines, I run each one against a loop of conditions, following the path it leads them in the workflows.\n",
    "\n",
    "Once we hit one where the target is 'A' or 'R', we store them in the final bucket and move to the next machine. This will result with a dictionary of two lists: one for accepted and one for rejected machines."
   ]
  },
  {
   "cell_type": "code",
   "execution_count": 2,
   "id": "a7d34094",
   "metadata": {},
   "outputs": [],
   "source": [
    "from collections import defaultdict\n",
    "\n",
    "FINAL_TARGETS = ('A', 'R')\n",
    "\n",
    "\n",
    "def sort_machines(workflows, machines):\n",
    "    BEGIN = 'in'\n",
    "    buckets = defaultdict(list)\n",
    "\n",
    "    for machine in machines:\n",
    "        current = workflows[BEGIN]\n",
    "        i = 0\n",
    "        while True:\n",
    "            condition, target = current[i]\n",
    "            match condition:\n",
    "                case '*':\n",
    "                    if target in FINAL_TARGETS:\n",
    "                        buckets[target].append(machine)\n",
    "                        break\n",
    "                    else:\n",
    "                        current = workflows[target]\n",
    "                        i = 0\n",
    "                        continue\n",
    "                case (attribute, '<', value):\n",
    "                    if machine[attribute] < value:\n",
    "                        if target in FINAL_TARGETS:\n",
    "                            buckets[target].append(machine)\n",
    "                            break\n",
    "                        else:\n",
    "                            current = workflows[target]\n",
    "                            i = 0\n",
    "                            continue\n",
    "                case (attribute, '>', value):\n",
    "                    if machine[attribute] > value:\n",
    "                        if target in FINAL_TARGETS:\n",
    "                            buckets[target].append(machine)\n",
    "                            break\n",
    "                        else:\n",
    "                            current = workflows[target]\n",
    "                            i = 0\n",
    "                            continue\n",
    "            i+=1\n",
    "    return buckets"
   ]
  },
  {
   "cell_type": "markdown",
   "id": "85056567",
   "metadata": {},
   "source": [
    "To calculate the final result, sum all the values of all the machines in the 'A' bucket."
   ]
  },
  {
   "cell_type": "code",
   "execution_count": 3,
   "id": "79963c98",
   "metadata": {},
   "outputs": [],
   "source": [
    "def calculate_accepted_score(buckets):\n",
    "    return sum(sum(machine.values()) for machine in buckets['A'])"
   ]
  },
  {
   "cell_type": "code",
   "execution_count": 4,
   "id": "dcd08ab7",
   "metadata": {},
   "outputs": [
    {
     "name": "stdout",
     "output_type": "stream",
     "text": [
      "Solution: 280909\n"
     ]
    }
   ],
   "source": [
    "buckets = sort_machines(workflows, ratings)\n",
    "part_1 = calculate_accepted_score(buckets)\n",
    "\n",
    "print(f'Solution: {part_1}')\n",
    "assert part_1 == 280909"
   ]
  },
  {
   "cell_type": "markdown",
   "id": "329e4d0b",
   "metadata": {},
   "source": [
    "## One star today\n",
    "\n",
    "I'm leaving today to one star for now. I had a busy day today with my local communities (wrapping up one and kickstarting another) and there's hockey on TV so I'm gonna chill for the night. At the time of writing, my total count is 35 stars (missing both stars of day 17 and today's 2nd star out of possible 38)."
   ]
  }
 ],
 "metadata": {
  "kernelspec": {
   "display_name": "Python 3 (ipykernel)",
   "language": "python",
   "name": "python3"
  },
  "language_info": {
   "codemirror_mode": {
    "name": "ipython",
    "version": 3
   },
   "file_extension": ".py",
   "mimetype": "text/x-python",
   "name": "python",
   "nbconvert_exporter": "python",
   "pygments_lexer": "ipython3",
   "version": "3.10.0"
  }
 },
 "nbformat": 4,
 "nbformat_minor": 5
}
