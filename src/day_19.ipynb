{
 "cells": [
  {
   "cell_type": "markdown",
   "id": "a695fbb4",
   "metadata": {},
   "source": [
    "## Read input\n",
    "\n",
    "Today's input required quite a few steps to parse but those steps were rather straight-forward to me at least. In the first section, I parse the workflows by separating rules that have a condition and ones that don't (and create a custom condition of `*` for them. Having uniform structure for all rules makes the logic itself bit simpler.\n",
    "\n",
    "For ratings, I remove the curly braces and split to pairs and store them in a list of dictionaries.\n"
   ]
  },
  {
   "cell_type": "code",
   "execution_count": 1,
   "id": "24780137",
   "metadata": {},
   "outputs": [],
   "source": [
    "from utils import read_multisection_input\n",
    "import re\n",
    "\n",
    "def workflows(section):\n",
    "    rules = {}\n",
    "    for line in section.split('\\n'):\n",
    "        key, rest = line.split('{')\n",
    "        rest = rest.split('}')[0].split(',')\n",
    "        tests = []\n",
    "        for rule in rest:\n",
    "            if ':' in rule:\n",
    "                condition, target = rule.split(':')\n",
    "                attribute, operator, value = re.findall(r'(x|m|a|s)(<|>)(\\d+)', condition)[0]\n",
    "                condition = (attribute, operator, int(value))\n",
    "            else:\n",
    "                condition = '*'\n",
    "                target = rule\n",
    "            tests.append((condition, target))\n",
    "        rules[key] = tests\n",
    "    return rules\n",
    "        \n",
    "def ratings(section):\n",
    "    ratings_output = []\n",
    "    for line in section.split('\\n'):\n",
    "        line = line.replace('{', '').replace('}', '')\n",
    "        ratings = line.split(',')\n",
    "        r = {}\n",
    "        for rating in ratings:\n",
    "            key, value = rating.split('=')\n",
    "            value = int(value)\n",
    "            r[key] = value\n",
    "        ratings_output.append(r.copy())\n",
    "    return ratings_output\n",
    "        \n",
    "workflows, ratings = read_multisection_input(19, [workflows, ratings])"
   ]
  },
  {
   "cell_type": "markdown",
   "id": "e6d2ddd0",
   "metadata": {},
   "source": [
    "To sort the matchines, I run each one against a loop of conditions, following the path it leads them in the workflows.\n",
    "\n",
    "Once we hit one where the target is 'A' or 'R', we store them in the final bucket and move to the next machine. This will result with a dictionary of two lists: one for accepted and one for rejected machines."
   ]
  },
  {
   "cell_type": "code",
   "execution_count": 2,
   "id": "57be5a73",
   "metadata": {},
   "outputs": [],
   "source": [
    "from collections import defaultdict\n",
    "\n",
    "FINAL_TARGETS = ('A', 'R')\n",
    "\n",
    "\n",
    "def sort_machines(workflows, machines):\n",
    "    BEGIN = 'in'\n",
    "    buckets = defaultdict(list)\n",
    "\n",
    "    for machine in machines:\n",
    "        current = workflows[BEGIN]\n",
    "        i = 0\n",
    "        while True:\n",
    "            condition, target = current[i]\n",
    "            match condition:\n",
    "                case '*':\n",
    "                    if target in FINAL_TARGETS:\n",
    "                        buckets[target].append(machine)\n",
    "                        break\n",
    "                    else:\n",
    "                        current = workflows[target]\n",
    "                        i = 0\n",
    "                        continue\n",
    "                case (attribute, '<', value):\n",
    "                    if machine[attribute] < value:\n",
    "                        if target in FINAL_TARGETS:\n",
    "                            buckets[target].append(machine)\n",
    "                            break\n",
    "                        else:\n",
    "                            current = workflows[target]\n",
    "                            i = 0\n",
    "                            continue\n",
    "                case (attribute, '>', value):\n",
    "                    if machine[attribute] > value:\n",
    "                        if target in FINAL_TARGETS:\n",
    "                            buckets[target].append(machine)\n",
    "                            break\n",
    "                        else:\n",
    "                            current = workflows[target]\n",
    "                            i = 0\n",
    "                            continue\n",
    "            i+=1\n",
    "    return buckets"
   ]
  },
  {
   "cell_type": "markdown",
   "id": "7498f86c",
   "metadata": {},
   "source": [
    "To calculate the final result, sum all the values of all the machines in the 'A' bucket."
   ]
  },
  {
   "cell_type": "code",
   "execution_count": 3,
   "id": "1afcf945",
   "metadata": {},
   "outputs": [],
   "source": [
    "def calculate_accepted_score(buckets):\n",
    "    return sum(sum(machine.values()) for machine in buckets['A'])"
   ]
  },
  {
   "cell_type": "code",
   "execution_count": 4,
   "id": "42bf47b6",
   "metadata": {},
   "outputs": [
    {
     "name": "stdout",
     "output_type": "stream",
     "text": [
      "Solution: 280909\n"
     ]
    }
   ],
   "source": [
    "buckets = sort_machines(workflows, ratings)\n",
    "part_1 = calculate_accepted_score(buckets)\n",
    "\n",
    "print(f'Solution: {part_1}')\n",
    "assert part_1 == 280909"
   ]
  },
  {
   "cell_type": "markdown",
   "id": "61fb0519",
   "metadata": {},
   "source": [
    "## One star today\n",
    "\n",
    "I'm leaving today to one star for now. I had a busy day today with my local communities (wrapping up one and kickstarting another) and there's hockey on TV so I'm gonna chill for the night. At the time of writing, my total count is 35 stars (missing both stars of day 17 and today's 2nd star out of possible 38)."
   ]
  }
 ],
 "metadata": {
  "kernelspec": {
   "display_name": "Python 3 (ipykernel)",
   "language": "python",
   "name": "python3"
  },
  "language_info": {
   "codemirror_mode": {
    "name": "ipython",
    "version": 3
   },
   "file_extension": ".py",
   "mimetype": "text/x-python",
   "name": "python",
   "nbconvert_exporter": "python",
   "pygments_lexer": "ipython3",
   "version": "3.10.0"
  }
 },
 "nbformat": 4,
 "nbformat_minor": 5
}
