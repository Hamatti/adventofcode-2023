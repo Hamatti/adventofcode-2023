{
 "cells": [
  {
   "cell_type": "markdown",
   "id": "c474f286",
   "metadata": {},
   "source": [
    "# Day 3: Gear Ratios\n",
    "\n",
    ">You and the Elf eventually reach a gondola lift station; he says the gondola lift will take you up to the water source, but this is as far as he can bring you. You go inside.\n",
    ">\n",
    ">It doesn't take long to find the gondolas, but there seems to be a problem: they're not moving.\n",
    ">\n",
    ">\"Aaah!\"\n",
    ">\n",
    ">You turn around to see a slightly-greasy Elf with a wrench and a look of surprise. \"Sorry, I wasn't expecting anyone! The gondola lift isn't working right now; it'll still be a while before I can fix it.\" You offer to help.\n",
    ">\n",
    ">The engineer explains that an engine part seems to be missing from the engine, but nobody can figure out which one. If you can add up all the part numbers in the engine schematic, it should be easy to work out which part is missing.\n",
    ">\n",
    ">The engine schematic (your puzzle input) consists of a visual representation of the engine. There are lots of numbers and symbols you don't really understand, but apparently any number adjacent to a symbol, even diagonally, is a \"part number\" and should be included in your sum. (Periods (.) do not count as a symbol.)\n",
    ">\n",
    ">Here is an example engine schematic:\n",
    ">```\n",
    "467..114..\n",
    "...*......\n",
    "..35..633.\n",
    "......#...\n",
    "617*......\n",
    ".....+.58.\n",
    "..592.....\n",
    "......755.\n",
    "...$.*....\n",
    ".664.598..\n",
    ">```\n",
    ">In this schematic, two numbers are not part numbers because they are not adjacent to a symbol: 114 (top right) and 58 (middle right). Every other number is adjacent to a symbol and so is a part number; their sum is 4361.\n",
    ">\n",
    ">Of course, the actual engine schematic is much larger. What is the sum of all of the part numbers in the engine schematic?\n"
   ]
  },
  {
   "cell_type": "markdown",
   "id": "6fd122e7",
   "metadata": {},
   "source": [
    "## Read input"
   ]
  },
  {
   "cell_type": "markdown",
   "id": "0cce27d6",
   "metadata": {},
   "source": [
    "This time, reading the input has two parts: first one is to read the schematics from the raw input and second is constructing the engine.\n",
    "\n",
    "Today's puzzle is one where it is possible to write it more efficient by not separating parsing from calculations but calculate as you go along. Here, that was not needed in either part, so I'll continue with my approach of first parsing to a useful data structure and then working with it.\n",
    "\n",
    "I turn each line in the input into a list so I end up with a list of lists with each character as its own item.\n",
    "\n",
    "I then create the engine as a dictionary with key of (x,y) position and value as the character."
   ]
  },
  {
   "cell_type": "code",
   "execution_count": 15,
   "id": "1fdf6fa6",
   "metadata": {},
   "outputs": [],
   "source": [
    "from utils import read_input\n",
    "\n",
    "\n",
    "EMPTY = '.'\n",
    "\n",
    "def transformer(line):\n",
    "    return list(line)\n",
    "\n",
    "def create_engine(schematics):\n",
    "    engine = {}\n",
    "    for y, row in enumerate(schematics):\n",
    "        for x, value in enumerate(row):\n",
    "            engine[(x,y)] = value\n",
    "    return engine\n",
    "\n",
    "schematics = read_input(3, transformer)\n",
    "engine = create_engine(schematics)"
   ]
  },
  {
   "cell_type": "markdown",
   "id": "02d94301",
   "metadata": {},
   "source": [
    "## Part 1\n",
    "\n",
    "I created a helper tuple `Number` to keep track of all the numbers, their start positions and lengths."
   ]
  },
  {
   "cell_type": "code",
   "execution_count": 21,
   "id": "ddb6f8e4",
   "metadata": {},
   "outputs": [],
   "source": [
    "from collections import namedtuple\n",
    "\n",
    "Number = namedtuple('Number', ['value', 'start_position', 'length'])"
   ]
  },
  {
   "cell_type": "markdown",
   "id": "e51fdbdf",
   "metadata": {},
   "source": [
    "My function to find neighboring coordinates is a very naive one: it goes through all positions the number's digits are in and finds neighboring coordinates for all of them. This means it finds coordinates that are beyond the original grid and it finds coordinates that are occupied by parts of the number itself.\n",
    "\n",
    "The first part I tackle by using dictionary's [`.get([key], [default])`](https://docs.python.org/3/library/stdtypes.html#dict.get) method in `is_valid_part_number` function and the second one doesn't matter because it doesn't matter if a number is connected to another number.\n",
    "\n",
    "A \"symbol\" in this puzzle is anything that is not a `.` (or `EMPTY` in my code) nor a digit. So to find out if a number is a part number, I go through all of its neighbors and check if any of them is a symbol."
   ]
  },
  {
   "cell_type": "code",
   "execution_count": 35,
   "id": "083a95b0",
   "metadata": {},
   "outputs": [],
   "source": [
    "def find_neighbors(number):\n",
    "    neighbors = []\n",
    "    start_x = number.start_position[0]\n",
    "    y = number.start_position[1]\n",
    "    for x in range(start_x, start_x + number.length):\n",
    "        neighbors.extend([\n",
    "            (x-1, y-1),\n",
    "            (x, y-1),\n",
    "            (x+1, y-1),\n",
    "            (x-1, y),\n",
    "            (x+1, y),\n",
    "            (x-1, y+1),\n",
    "            (x, y+1),\n",
    "            (x+1, y+1)\n",
    "        ])\n",
    "    return neighbors\n",
    "\n",
    "def is_symbol(character):\n",
    "    return character != EMPTY and not character.isdigit()\n",
    "\n",
    "def is_valid_part_number(number, engine):\n",
    "    for neighbor in find_neighbors(number):\n",
    "        if is_symbol(engine.get(neighbor, EMPTY)):\n",
    "            return True\n",
    "    return False"
   ]
  },
  {
   "cell_type": "markdown",
   "id": "06ca7496",
   "metadata": {},
   "source": [
    "To find all numbers in the grid, I have a `find_numbers` function that takes `engine` as its only argument.\n",
    "\n",
    "I go through each position and there are four cases we could be in:\n",
    "\n",
    "1. We are not currently reading a number and the current character is not a digit -> we do nothing\n",
    "2. We encounter first digit -> we start reading a number and save the starting position\n",
    "3. We are in the middle of reading a number and encounter a digit -> we append the new digit to number\n",
    "4. We were reading a number but current character is not one -> we finish reading a number and store it to a list\n",
    "\n",
    "Dictionaries in Python are [currently (at the time of writing)](https://docs.python.org/3.6/whatsnew/3.6.html#new-dict-implementation) read in insertion order. This wasn't a case in the past and is not guaranteed to be the case in the future so it shouldn't be relied on. To make sure our coordinates are gone through in right order (row by row, column by column), I use a lambda function to sort first by y-coordinate and then x-coordinate."
   ]
  },
  {
   "cell_type": "code",
   "execution_count": 52,
   "id": "9f1acb5a",
   "metadata": {},
   "outputs": [],
   "source": [
    "sort_by_rows_then_columns = lambda x: (x[0][1], x[0][0])\n",
    "\n",
    "def find_numbers(engine):\n",
    "    numbers = []\n",
    "    \n",
    "    reading_number = ''\n",
    "    start_position = None\n",
    "    for pos, value in sorted(engine.items(), key=sort_by_rows_then_columns):\n",
    "        if value.isdigit():\n",
    "            # We are currently in the middle of a number\n",
    "            if reading_number:\n",
    "                reading_number += value\n",
    "            # We start to read a number\n",
    "            if not reading_number:\n",
    "                start_position = pos\n",
    "                reading_number = value\n",
    "        # We finished reading a number\n",
    "        elif reading_number:\n",
    "            numbers.append(\n",
    "                Number(\n",
    "                    value=int(reading_number), \n",
    "                    start_position=start_position, \n",
    "                    length=len(reading_number)\n",
    "                )\n",
    "            )\n",
    "            reading_number = \"\"\n",
    "            start_pos = None\n",
    "    return numbers"
   ]
  },
  {
   "cell_type": "markdown",
   "id": "d0badf6a",
   "metadata": {},
   "source": [
    "To calculate the result, I first find all the numbers from the engine and then check for each, if they are a valid part number or not. Finally, I sum up all the valid numbers."
   ]
  },
  {
   "cell_type": "code",
   "execution_count": 53,
   "id": "8fa580a3",
   "metadata": {},
   "outputs": [
    {
     "name": "stdout",
     "output_type": "stream",
     "text": [
      "Solution: 537832\n"
     ]
    }
   ],
   "source": [
    "def calculate_sum(engine):\n",
    "    numbers = find_numbers(engine)\n",
    "\n",
    "    valid_numbers = []\n",
    "    for number in numbers:\n",
    "        if is_valid_part_number(number, engine):\n",
    "            valid_numbers.append(number)\n",
    "\n",
    "    return sum(n.value for n in valid_numbers)\n",
    "\n",
    "part_1 = calculate_sum(engine)\n",
    "print(f'Solution: {part_1}')\n",
    "assert part_1 == 537832"
   ]
  },
  {
   "cell_type": "markdown",
   "id": "c29b6549",
   "metadata": {},
   "source": [
    "## Part 2\n",
    "\n",
    ">The engineer finds the missing part and installs it in the engine! As the engine springs to life, you jump in the closest gondola, finally ready to ascend to the water source.\n",
    ">\n",
    ">You don't seem to be going very fast, though. Maybe something is still wrong? Fortunately, the gondola has a phone labeled \"help\", so you pick it up and the engineer answers.\n",
    ">\n",
    ">Before you can explain the situation, she suggests that you look out the window. There stands the engineer, holding a phone in one hand and waving with the other. You're going so slowly that you haven't even left the station. You exit the gondola.\n",
    ">\n",
    ">The missing part wasn't the only issue - one of the gears in the engine is wrong. A gear is any * symbol that is adjacent to exactly two part numbers. Its gear ratio is the result of multiplying those two numbers together.\n",
    ">\n",
    ">This time, you need to find the gear ratio of every gear and add them all up so that the engineer can figure out which gear needs to be replaced.\n",
    ">\n",
    ">Consider the same engine schematic again:\n",
    ">```\n",
    "467..114..\n",
    "...*......\n",
    "..35..633.\n",
    "......#...\n",
    "617*......\n",
    ".....+.58.\n",
    "..592.....\n",
    "......755.\n",
    "...$.*....\n",
    ".664.598..\n",
    ">```\n",
    ">In this schematic, there are two gears. The first is in the top left; it has part numbers 467 and 35, so its gear ratio is 16345. The second gear is in the lower right; its gear ratio is 451490. (The * adjacent to 617 is not a gear because it is only adjacent to one part number.) Adding up all of the gear ratios produces 467835.\n",
    ">\n",
    ">What is the sum of all of the gear ratios in your engine schematic?"
   ]
  },
  {
   "cell_type": "markdown",
   "id": "2a8e7e79",
   "metadata": {},
   "source": [
    "My solution for this second part is not very optimized but it's readable and easy to follow.\n",
    "\n",
    "In `calculate_gear_ratio_sum` main function, I find all the numbers as before and then iterate over each character in the grid (this time the order doesn't matter). For each `GEAR` (`*`), I find all the numbers connected to it (by inefficiently iterating through all the numbers for each gear and generating all neighbors for those numbers) and checking if the gear is within those neighboring positions.\n",
    "\n",
    "If a gear has exactly two connected numbers, I calculate the product of them and finally sum them all up."
   ]
  },
  {
   "cell_type": "code",
   "execution_count": 54,
   "id": "efb64e93",
   "metadata": {},
   "outputs": [
    {
     "name": "stdout",
     "output_type": "stream",
     "text": [
      "Solution: 81939900\n"
     ]
    }
   ],
   "source": [
    "import math\n",
    "\n",
    "\n",
    "GEAR = '*'\n",
    "\n",
    "def find_neighboring_numbers(gear_position, numbers):\n",
    "    connected = []\n",
    "    for number in numbers:\n",
    "        number_neighbors = find_neighbors(number)\n",
    "        if gear_position in number_neighbors:\n",
    "            connected.append(number)\n",
    "    return connected\n",
    "\n",
    "def calculate_gear_ratio_sum(engine):\n",
    "    gear_ratios = []\n",
    "    numbers = find_numbers(engine)\n",
    "    for position, value in engine.items():\n",
    "        if value != GEAR:\n",
    "            continue\n",
    "        connected_numbers = find_neighboring_numbers(position, numbers)\n",
    "        if len(connected_numbers) == 2:\n",
    "            gear_ratios.append(math.prod((n.value for n in connected_numbers)))\n",
    "    return sum(gear_ratios)\n",
    "\n",
    "part_2 = calculate_gear_ratio_sum(engine)\n",
    "print(f'Solution: {part_2}')\n",
    "assert part_2 == 81939900"
   ]
  },
  {
   "cell_type": "markdown",
   "id": "dc974848",
   "metadata": {},
   "source": [
    "## Two stars!\n",
    "\n",
    "6 out of 50 done, we're making great progress!"
   ]
  }
 ],
 "metadata": {
  "kernelspec": {
   "display_name": "Python 3 (ipykernel)",
   "language": "python",
   "name": "python3"
  },
  "language_info": {
   "codemirror_mode": {
    "name": "ipython",
    "version": 3
   },
   "file_extension": ".py",
   "mimetype": "text/x-python",
   "name": "python",
   "nbconvert_exporter": "python",
   "pygments_lexer": "ipython3",
   "version": "3.10.0"
  }
 },
 "nbformat": 4,
 "nbformat_minor": 5
}
