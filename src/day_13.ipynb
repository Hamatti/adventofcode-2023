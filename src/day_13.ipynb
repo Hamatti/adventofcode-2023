{
 "cells": [
  {
   "cell_type": "markdown",
   "id": "1176e6e9",
   "metadata": {},
   "source": [
    "> # Day 13: Point of Incidence\n",
    ">\n",
    ">With your help, the hot springs team locates an appropriate spring which launches you neatly and precisely up to the edge of Lava Island.\n",
    ">\n",
    ">There's just one problem: you don't see any lava.\n",
    ">\n",
    ">You do see a lot of ash and igneous rock; there are even what look like gray mountains scattered around. After a while, you make your way to a nearby cluster of mountains only to discover that the valley between them is completely full of large mirrors. Most of the mirrors seem to be aligned in a consistent way; perhaps you should head in that direction?\n",
    ">\n",
    ">As you move through the valley of mirrors, you find that several of them have fallen from the large metal frames keeping them in place. The mirrors are extremely flat and shiny, and many of the fallen mirrors have lodged into the ash at strange angles. Because the terrain is all one color, it's hard to tell where it's safe to walk or where you're about to run into a mirror.\n",
    ">\n",
    ">You note down the patterns of ash (.) and rocks (#) that you see as you walk (your puzzle input); perhaps by carefully analyzing these patterns, you can figure out where the mirrors are!\n",
    ">\n",
    ">For example:\n",
    ">```\n",
    ">#.##..##.\n",
    ">..#.##.#.\n",
    ">##......#\n",
    ">##......#\n",
    ">..#.##.#.\n",
    ">..##..##.\n",
    ">#.#.##.#.\n",
    ">\n",
    ">#...##..#\n",
    ">#....#..#\n",
    ">..##..###\n",
    ">#####.##.\n",
    ">#####.##.\n",
    ">..##..###\n",
    ">#....#..#\n",
    ">```\n",
    ">To find the reflection in each pattern, you need to find a perfect reflection across either a horizontal line between two rows or across a vertical line between two columns.\n",
    ">\n",
    ">In the first pattern, the reflection is across a vertical line between two columns; arrows on each of the two columns point at the line between the columns:\n",
    ">```\n",
    ">123456789\n",
    ">    ><   \n",
    ">#.##..##.\n",
    ">..#.##.#.\n",
    ">##......#\n",
    ">##......#\n",
    ">..#.##.#.\n",
    ">..##..##.\n",
    ">#.#.##.#.\n",
    ">    ><   \n",
    ">123456789\n",
    ">```\n",
    ">In this pattern, the line of reflection is the vertical line between columns 5 and 6. Because the vertical line is not perfectly in the middle of the pattern, part of the pattern (column 1) has nowhere to reflect onto and can be ignored; every other column has a reflected column within the pattern and must match exactly: column 2 matches column 9, column 3 matches 8, 4 matches 7, and 5 matches 6.\n",
    ">\n",
    ">The second pattern reflects across a horizontal line instead:\n",
    ">```\n",
    ">1 #...##..# 1\n",
    ">2 #....#..# 2\n",
    ">3 ..##..### 3\n",
    ">4v#####.##.v4\n",
    ">5^#####.##.^5\n",
    ">6 ..##..### 6\n",
    ">7 #....#..# 7\n",
    ">```\n",
    ">This pattern reflects across the horizontal line between rows 4 and 5. Row 1 would reflect with a hypothetical row 8, but since that's not in the pattern, row 1 doesn't need to match anything. The remaining rows match: row 2 matches row 7, row 3 matches row 6, and row 4 matches row 5.\n",
    ">\n",
    ">To summarize your pattern notes, add up the number of columns to the left of each vertical line of reflection; to that, also add 100 multiplied by the number of rows above each horizontal line of reflection. In the above example, the first pattern's vertical line has 5 columns to its left and the second pattern's horizontal line has 4 rows above it, a total of 405.\n",
    ">\n",
    ">Find the line of reflection in each of the patterns in your notes. What number do you get after summarizing all of your notes?\n"
   ]
  },
  {
   "cell_type": "markdown",
   "id": "b85df680",
   "metadata": {},
   "source": [
    "## Read input\n",
    "\n",
    "Since we're comparing individual rows or columns to each other and we're not moving around in the grid, we don't need to use a coordinate system for this puzzle. I split each grid by a new line to rows of strings."
   ]
  },
  {
   "cell_type": "code",
   "execution_count": 1,
   "id": "ffa1640f",
   "metadata": {},
   "outputs": [],
   "source": [
    "from utils import read_multisection_input\n",
    "\n",
    "\n",
    "def transformer(section):\n",
    "    return section.split('\\n')\n",
    "\n",
    "grids = read_multisection_input(13, [transformer])"
   ]
  },
  {
   "cell_type": "markdown",
   "id": "0e887e09",
   "metadata": {},
   "source": [
    "I have two helper functions to make the main logic read nicer.\n",
    "\n",
    "To see if any given line `y` is the lower half of a mirror line, we start with that line and the one above it and compare them to each other. Then we move up and down simulatenously and keep checking until either we find two lines that don't match (meaning original was not a mirror line) or we run out of the grid in which case it was a mirror line.\n",
    "\n",
    "We do the same with column `x` but this time we pass the grid in rotated/transposed way."
   ]
  },
  {
   "cell_type": "code",
   "execution_count": 2,
   "id": "3314575c",
   "metadata": {},
   "outputs": [],
   "source": [
    "def is_horisontal_mirror(grid, row):\n",
    "    up = row-1\n",
    "    down = row\n",
    "    \n",
    "    while up >= 0 and down < len(grid):\n",
    "        if grid[up] != grid[down]:\n",
    "            return False\n",
    "        up -= 1\n",
    "        down += 1\n",
    "    return True\n",
    "\n",
    "def is_vertical_mirror(grid, column):\n",
    "    left = column-1\n",
    "    right = column\n",
    "    \n",
    "    while left >= 0 and right < len(grid):\n",
    "        if grid[left] != grid[right]:\n",
    "            return False\n",
    "        left -= 1\n",
    "        right += 1\n",
    "    return True"
   ]
  },
  {
   "cell_type": "markdown",
   "id": "029daeef",
   "metadata": {},
   "source": [
    "A handy `zip` trick is used here today. If you want to transpose (turn rows into columns and columns into rows) a matrix or list of lists, you can pass `*grid` into `zip` to make it happen.\n",
    "\n",
    "Other than that, we go through line by line and then column by column until we find a line that is a mirror line. If it's a horisontal line, we return `100 * y` and if it's a vertical line, we return `x`."
   ]
  },
  {
   "cell_type": "code",
   "execution_count": 3,
   "id": "6ffaea4f",
   "metadata": {},
   "outputs": [],
   "source": [
    "def find_reflection_point(grid):\n",
    "    for y in range(1, len(grid)):\n",
    "        if is_horisontal_mirror(grid, y):\n",
    "            return 100 * y\n",
    "    \n",
    "    transposed = list(zip(*grid))\n",
    "    for x in range(1, len(transposed)):\n",
    "        if is_vertical_mirror(transposed, x):\n",
    "            return x\n",
    "\n",
    "    return None"
   ]
  },
  {
   "cell_type": "code",
   "execution_count": 4,
   "id": "a7d3d984",
   "metadata": {},
   "outputs": [
    {
     "name": "stdout",
     "output_type": "stream",
     "text": [
      "Solution: 33122\n"
     ]
    }
   ],
   "source": [
    "part_1 = 0\n",
    "reflection_points = {}\n",
    "for i, grid in enumerate(grids):\n",
    "    reflection_point = find_reflection_point(grid)\n",
    "    reflection_points[i] = reflection_point\n",
    "    part_1 += reflection_point\n",
    "\n",
    "print(f'Solution: {part_1}')\n",
    "assert part_1 == 33122"
   ]
  },
  {
   "cell_type": "markdown",
   "id": "9f19a937",
   "metadata": {},
   "source": [
    "## Part 2\n",
    "\n",
    ">You resume walking through the valley of mirrors and - SMACK! - run directly into one. Hopefully nobody was watching, because that must have been pretty embarrassing.\n",
    ">\n",
    ">Upon closer inspection, you discover that every mirror has exactly one smudge: exactly one . or # should be the opposite type.\n",
    ">\n",
    ">In each pattern, you'll need to locate and fix the smudge that causes a different reflection line to be valid. (The old reflection line won't necessarily continue being valid after the smudge is fixed.)\n",
    ">\n",
    ">Here's the above example again:\n",
    ">```\n",
    ">#.##..##.\n",
    ">..#.##.#.\n",
    ">##......#\n",
    ">##......#\n",
    ">..#.##.#.\n",
    ">..##..##.\n",
    ">#.#.##.#.\n",
    ">\n",
    ">#...##..#\n",
    ">#....#..#\n",
    ">..##..###\n",
    ">#####.##.\n",
    ">#####.##.\n",
    ">..##..###\n",
    ">#....#..#\n",
    ">```\n",
    ">The first pattern's smudge is in the top-left corner. If the top-left # were instead ., it would have a different, horizontal line of reflection:\n",
    ">```\n",
    ">1 ..##..##. 1\n",
    ">2 ..#.##.#. 2\n",
    ">3v##......#v3\n",
    ">4^##......#^4\n",
    ">5 ..#.##.#. 5\n",
    ">6 ..##..##. 6\n",
    ">7 #.#.##.#. 7\n",
    ">```\n",
    ">With the smudge in the top-left corner repaired, a new horizontal line of reflection between rows 3 and 4 now exists. Row 7 has no corresponding reflected row and can be ignored, but every other row matches exactly: row 1 matches row 6, row 2 matches row 5, and row 3 matches row 4.\n",
    ">\n",
    ">In the second pattern, the smudge can be fixed by changing the fifth symbol on row 2 from . to #:\n",
    ">```\n",
    ">1v#...##..#v1\n",
    ">2^#...##..#^2\n",
    ">3 ..##..### 3\n",
    ">4 #####.##. 4\n",
    ">5 #####.##. 5\n",
    ">6 ..##..### 6\n",
    ">7 #....#..# 7\n",
    ">```\n",
    ">Now, the pattern has a different horizontal line of reflection between rows 1 and 2.\n",
    ">\n",
    ">Summarize your notes as before, but instead use the new different reflection lines. In this example, the first pattern's new horizontal line has 3 rows above it and the second pattern's new horizontal line has 1 row above it, summarizing to the value 400.\n",
    ">\n",
    ">In each pattern, fix the smudge and find the different line of reflection. What number do you get after summarizing the new reflection line in each pattern in your notes?"
   ]
  },
  {
   "cell_type": "markdown",
   "id": "0a3e9637",
   "metadata": {},
   "source": [
    "The second part had me puzzled for quite a while for such a relatively straight-forward change. It turned out, I originally was skipping grid change if it found the original mirror line. Sometimes, this was possible to happen though even in cases where there was a new mirror line as well.\n",
    "\n",
    "That's why I had to add a `disallowed_value` which was stored in part 1, to keep running when it was encountered.\n",
    "\n",
    "To flip a single coordinate, I find the correct row and slice the string to create a new one, with the required one changed. I also make a copy of the grid when flipping so I don't have to flip it back on the next round."
   ]
  },
  {
   "cell_type": "code",
   "execution_count": 5,
   "id": "d36a186e",
   "metadata": {},
   "outputs": [],
   "source": [
    "def flip(y, x, grid):\n",
    "    g = grid[:]\n",
    "    to_change = g[y]\n",
    "    new_character = '.' if to_change[x] == '#' else '#'\n",
    "    new_line = to_change[:x] + new_character  + to_change[x+1:]\n",
    "    g[y] = new_line\n",
    "    return g"
   ]
  },
  {
   "cell_type": "code",
   "execution_count": 6,
   "id": "2b7f2d2b",
   "metadata": {},
   "outputs": [],
   "source": [
    "def find_reflection_point_part_2(grid, disallowed_value):\n",
    "    for y in range(1, len(grid)):\n",
    "        if is_horisontal_mirror(grid, y):\n",
    "            if y * 100 == disallowed_value:\n",
    "                continue\n",
    "            return 100 * y\n",
    "    \n",
    "    transposed = list(zip(*grid))\n",
    "    for x in range(1, len(transposed)):\n",
    "        if is_vertical_mirror(transposed, x):\n",
    "            if x == disallowed_value:\n",
    "                continue\n",
    "            return x\n",
    "\n",
    "    return None"
   ]
  },
  {
   "cell_type": "markdown",
   "id": "66161737",
   "metadata": {},
   "source": [
    "The final solution is essentially the same as the first part with two changes:\n",
    "\n",
    "1. I now loop over all the coordinates and flip them one-by-one\n",
    "2. I check if this change created a new reflection line or not\n",
    "\n",
    "I put this code into its own function so I don't need to break out from nested for loops."
   ]
  },
  {
   "cell_type": "code",
   "execution_count": 7,
   "id": "aa3e27cf",
   "metadata": {},
   "outputs": [],
   "source": [
    "def flip_until_found(grid, disallowed_value):\n",
    "    for y in range(len(grid)):\n",
    "        for x in range(len(grid[y])):\n",
    "            new_grid = flip(y, x, grid)\n",
    "            potential_reflection_point = find_reflection_point_part_2(new_grid, disallowed_value)\n",
    "            if potential_reflection_point is not None:\n",
    "                return potential_reflection_point"
   ]
  },
  {
   "cell_type": "code",
   "execution_count": 8,
   "id": "8010f05e",
   "metadata": {},
   "outputs": [
    {
     "name": "stdout",
     "output_type": "stream",
     "text": [
      "Solution: 32312\n"
     ]
    }
   ],
   "source": [
    "part_2 = 0\n",
    "for i, grid in enumerate(grids):\n",
    "    part_2 += flip_until_found(grid, reflection_points[i])\n",
    "\n",
    "print(f'Solution: {part_2}')\n",
    "assert part_2 == 32312"
   ]
  },
  {
   "cell_type": "markdown",
   "id": "ad26c311",
   "metadata": {},
   "source": [
    "## Two stars\n",
    "\n",
    "With 26 out of 50 stars, we're officially over the midway point to Christmas!"
   ]
  }
 ],
 "metadata": {
  "kernelspec": {
   "display_name": "Python 3 (ipykernel)",
   "language": "python",
   "name": "python3"
  },
  "language_info": {
   "codemirror_mode": {
    "name": "ipython",
    "version": 3
   },
   "file_extension": ".py",
   "mimetype": "text/x-python",
   "name": "python",
   "nbconvert_exporter": "python",
   "pygments_lexer": "ipython3",
   "version": "3.10.0"
  }
 },
 "nbformat": 4,
 "nbformat_minor": 5
}
