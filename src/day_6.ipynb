{
 "cells": [
  {
   "cell_type": "markdown",
   "id": "6e1ee4e6",
   "metadata": {},
   "source": [
    "> # Day 6: Wait For It\n",
    "> \n",
    "> The ferry quickly brings you across Island Island. After asking around, you discover that there is indeed normally a large pile of sand somewhere near here, but you don't see anything besides lots of water and the small island where the ferry has docked.\n",
    "> \n",
    "> As you try to figure out what to do next, you notice a poster on a wall near the ferry dock. \"Boat races! Open to the public! Grand prize is an all-expenses-paid trip to Desert Island!\" That must be where the sand comes from! Best of all, the boat races are starting in just a few minutes.\n",
    "> \n",
    "> You manage to sign up as a competitor in the boat races just in time. The organizer explains that it's not really a traditional race - instead, you will get a fixed amount of time during which your boat has to travel as far as it can, and you win if your boat goes the farthest.\n",
    "> \n",
    "> As part of signing up, you get a sheet of paper (your puzzle input) that lists the time allowed for each race and also the best distance ever recorded in that race. To guarantee you win the grand prize, you need to make sure you go farther in each race than the current record holder.\n",
    "> \n",
    "> The organizer brings you over to the area where the boat races are held. The boats are much smaller than you expected - they're actually toy boats, each with a big button on top. Holding down the button charges the boat, and releasing the button allows the boat to move. Boats move faster if their button was held longer, but time spent holding the button counts against the total race time. You can only hold the button at the start of the race, and boats don't move until the button is released.\n",
    "> \n",
    "> For example:\n",
    ">```\n",
    "Time:      7  15   30\n",
    "Distance:  9  40  200\n",
    ">```\n",
    "> This document describes three races:\n",
    "> \n",
    ">- The first race lasts 7 milliseconds. The record distance in this race is 9 millimeters.\n",
    ">- The second race lasts 15 milliseconds. The record distance in this race is 40 millimeters.\n",
    ">- The third race lasts 30 milliseconds. The record distance in this race is 200 millimeters.\n",
    ">\n",
    ">Your toy boat has a starting speed of zero millimeters per millisecond. For each whole millisecond you spend at the beginning of the race holding down the button, the boat's speed increases by one millimeter per millisecond.\n",
    ">\n",
    ">So, because the first race lasts 7 milliseconds, you only have a few options:\n",
    "\n",
    ">- Don't hold the button at all (that is, hold it for 0 milliseconds) at the start of the race. The boat won't move; it will have traveled 0 millimeters by the end of the race.\n",
    ">- Hold the button for 1 millisecond at the start of the race. Then, the boat will travel at a speed of 1 millimeter per millisecond for 6 milliseconds, reaching a total distance traveled of 6 millimeters.\n",
    ">- Hold the button for 2 milliseconds, giving the boat a speed of 2 millimeters per millisecond. It will then get 5 milliseconds to move, reaching a total distance of 10 millimeters.\n",
    ">- Hold the button for 3 milliseconds. After its remaining 4 milliseconds of travel time, the boat will have gone 12 millimeters.\n",
    ">- Hold the button for 4 milliseconds. After its remaining 3 milliseconds of travel time, the boat will have gone 12 millimeters.\n",
    ">- Hold the button for 5 milliseconds, causing the boat to travel a total of 10 millimeters.\n",
    ">- Hold the button for 6 milliseconds, causing the boat to travel a total of 6 millimeters.\n",
    ">- Hold the button for 7 milliseconds. That's the entire duration of the race. You never let go of the button. The boat can't move until you let go of the button. Please make sure you let go of the button so the boat gets to move. 0 millimeters.\n",
    ">\n",
    ">Since the current record for this race is 9 millimeters, there are actually 4 different ways you could win: you could hold the button for 2, 3, 4, or 5 milliseconds at the start of the race.\n",
    ">\n",
    ">In the second race, you could hold the button for at least 4 milliseconds and at most 11 milliseconds and beat the record, a total of 8 different ways to win.\n",
    ">\n",
    ">In the third race, you could hold the button for at least 11 milliseconds and no more than 19 milliseconds and still beat the record, a total of 9 ways you could win.\n",
    ">\n",
    ">To see how much margin of error you have, determine the number of ways you can beat the record in each race; in this example, if you multiply these values together, you get 288 (4 * 8 * 9).\n",
    ">\n",
    ">Determine the number of ways you could beat the record in each race. What do you get if you multiply these numbers together?"
   ]
  },
  {
   "cell_type": "markdown",
   "id": "5bbb30a3",
   "metadata": {},
   "source": [
    "## Read input\n",
    "\n",
    "Today's input is unusually simple but also unusual in that a single item is in columns rather than lines.\n",
    "\n",
    "For both of the lines, I find all the numbers and store them in `times` and `distances` respectively."
   ]
  },
  {
   "cell_type": "code",
   "execution_count": 1,
   "id": "ebe6d36b",
   "metadata": {},
   "outputs": [],
   "source": [
    "import re\n",
    "from utils import read_input\n",
    "\n",
    "def transformer(line):\n",
    "    return [int(v) for v in re.findall(r'\\d+', line)]\n",
    "\n",
    "times, records = read_input(6, transformer)"
   ]
  },
  {
   "cell_type": "markdown",
   "id": "eba5f04e",
   "metadata": {},
   "source": [
    "My first solution to this was to loop through every potential millisecond from 0 to `time` and then see how many of them are winning."
   ]
  },
  {
   "cell_type": "code",
   "execution_count": 2,
   "id": "2e0ca511",
   "metadata": {},
   "outputs": [],
   "source": [
    "def first_solution(time, record):\n",
    "    winning_strategies = 0\n",
    "    for pressed_down in range(0, time+1):\n",
    "        travelled = (time - pressed_down) * pressed_down\n",
    "        if travelled > record:\n",
    "            winning_strategies += 1\n",
    "    return winning_strategies"
   ]
  },
  {
   "cell_type": "markdown",
   "id": "06175401",
   "metadata": {},
   "source": [
    "The slight issue with this though is that when the numbers get large (as they did in part 2), there's a lot of unnecessary looping. The reason for that is that all the failing cases happen at the beginning and at the end.\n",
    "\n",
    "So my second solution finds the lower threshold where we start winning and stops. It then starts from the end and finds the high threshold where we start winning and stops. And then combines these two together."
   ]
  },
  {
   "cell_type": "code",
   "execution_count": 3,
   "id": "dacb917c",
   "metadata": {},
   "outputs": [],
   "source": [
    "def find_winning_strategies(time, record):\n",
    "    low_winner = 0\n",
    "    high_winner = 0\n",
    "    for pressed_down in range(0, time+1):\n",
    "        travelled = (time - pressed_down) * pressed_down\n",
    "        if travelled > record:\n",
    "            low_winner = pressed_down\n",
    "            break\n",
    "    for pressed_down in range(time, 0, -1):\n",
    "        travelled = (time - pressed_down) * pressed_down\n",
    "        if travelled > record:\n",
    "            high_winner = time - pressed_down\n",
    "            break\n",
    "    # We add +1 here because for a time of 7 ms, there are 8 attempts (one at 0ms)\n",
    "    return (time + 1) - low_winner - high_winner"
   ]
  },
  {
   "cell_type": "markdown",
   "id": "ab32a811",
   "metadata": {},
   "source": [
    "To get the final result, we combine the times and records with [zip](https://docs.python.org/3.3/library/functions.html#zip) that is a very handy function. It takes any number of iterables like lists or tuples and on each iteration, takes the nth item from each iterable.\n",
    "\n",
    "```python\n",
    "fruits = ['apple', 'banana', 'pear']\n",
    "colors = ['red', 'yellow', 'green']\n",
    "for fruit, color in zip(fruits, colors):\n",
    "    print(f'{fruit} is {color}'\n",
    "```\n",
    "\n",
    "would print \"apple is red\", \"banana is yellow\", \"pear is green\""
   ]
  },
  {
   "cell_type": "code",
   "execution_count": 4,
   "id": "4c857c09",
   "metadata": {},
   "outputs": [
    {
     "name": "stdout",
     "output_type": "stream",
     "text": [
      "Solution: 1731600\n"
     ]
    }
   ],
   "source": [
    "part_1 = 1\n",
    "for time, record in zip(times, records):\n",
    "    part_1 *= find_winning_strategies(time, record)\n",
    "print(f'Solution: {part_1}')\n",
    "assert part_1 == 1731600"
   ]
  },
  {
   "cell_type": "markdown",
   "id": "11552a7a",
   "metadata": {},
   "source": [
    "## Part 2\n",
    "\n",
    ">As the race is about to start, you realize the piece of paper with race times and record distances you got earlier actually just has very bad kerning. There's really only one race - ignore the spaces between the numbers on each line.\n",
    ">\n",
    ">So, the example from before:\n",
    ">```\n",
    "Time:      7  15   30\n",
    "Distance:  9  40  200\n",
    ">```\n",
    ">...now instead means this:\n",
    ">```\n",
    "Time:      71530\n",
    "Distance:  940200\n",
    ">```\n",
    ">\n",
    ">Now, you have to figure out how many ways there are to win this single race. In this example, the race lasts for 71530 milliseconds and the record distance you need to beat is 940200 millimeters. You could hold the button anywhere from 14 to 71516 milliseconds and beat the record, a total of 71503 ways!\n",
    ">\n",
    ">How many ways can you beat the record in this one much longer race?"
   ]
  },
  {
   "cell_type": "markdown",
   "id": "1575408f",
   "metadata": {},
   "source": [
    "Them pesky elves with their incoherent writing again. All we need to do here is to fix the input by combining the numbers into a single string and then calling the function once more.\n",
    "\n",
    "Even my `first_solution` was able to solve this in a relatively short time but the optimized solution is much better."
   ]
  },
  {
   "cell_type": "code",
   "execution_count": 5,
   "id": "e8d65b5b",
   "metadata": {},
   "outputs": [
    {
     "name": "stdout",
     "output_type": "stream",
     "text": [
      "Solution: 40087680\n"
     ]
    }
   ],
   "source": [
    "new_time = int(''.join(str(t) for t in times))\n",
    "new_record = int(''.join(str(d) for d in records))\n",
    "\n",
    "part_2 = find_winning_strategies(new_time, new_record)\n",
    "print(f'Solution: {part_2}')\n",
    "assert part_2 == 40087680"
   ]
  },
  {
   "cell_type": "markdown",
   "id": "b83f9d2a",
   "metadata": {},
   "source": [
    "## Two stars!\n",
    "\n",
    "Today, we're at 11 out of 50 stars."
   ]
  }
 ],
 "metadata": {
  "kernelspec": {
   "display_name": "Python 3 (ipykernel)",
   "language": "python",
   "name": "python3"
  },
  "language_info": {
   "codemirror_mode": {
    "name": "ipython",
    "version": 3
   },
   "file_extension": ".py",
   "mimetype": "text/x-python",
   "name": "python",
   "nbconvert_exporter": "python",
   "pygments_lexer": "ipython3",
   "version": "3.10.0"
  }
 },
 "nbformat": 4,
 "nbformat_minor": 5
}
