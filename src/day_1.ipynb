{
 "cells": [
  {
   "cell_type": "markdown",
   "id": "aeeaf618",
   "metadata": {},
   "source": [
    "# Day 1 - Trebuchet?!\n",
    "\n",
    "Something is wrong with global snow production, and you've been selected to take a look. The Elves have even given you a map; on it, they've used stars to mark the top fifty locations that are likely to be having problems.\n",
    "\n",
    "You've been doing this long enough to know that to restore snow operations, you need to check all fifty stars by December 25th.\n",
    "\n",
    "Collect stars by solving puzzles. Two puzzles will be made available on each day in the Advent calendar; the second puzzle is unlocked when you complete the first. Each puzzle grants one star. Good luck!\n",
    "\n",
    "You try to ask why they can't just use a weather machine (\"not powerful enough\") and where they're even sending you (\"the sky\") and why your map looks mostly blank (\"you sure ask a lot of questions\") and hang on did you just say the sky (\"of course, where do you think snow comes from\") when you realize that the Elves are already loading you into a trebuchet (\"please hold still, we need to strap you in\").\n",
    "\n",
    "As they're making the final adjustments, they discover that their calibration document (your puzzle input) has been amended by a very young Elf who was apparently just excited to show off her art skills. Consequently, the Elves are having trouble reading the values on the document.\n",
    "\n",
    "The newly-improved calibration document consists of lines of text; each line originally contained a specific calibration value that the Elves now need to recover. On each line, the calibration value can be found by combining the first digit and the last digit (in that order) to form a single two-digit number."
   ]
  },
  {
   "cell_type": "markdown",
   "id": "da960e71",
   "metadata": {},
   "source": [
    "## Reading the input\n",
    "\n",
    "As every day, we start by reading in the input with our helper function. Since our input today is strings, we don't need to do any conversions and can read it with `read_input(1)`."
   ]
  },
  {
   "cell_type": "code",
   "execution_count": 65,
   "id": "59c1d13d",
   "metadata": {},
   "outputs": [],
   "source": [
    "from utils import read_input\n",
    "\n",
    "calibrations = read_input(1)"
   ]
  },
  {
   "cell_type": "markdown",
   "id": "1bf7313b",
   "metadata": {},
   "source": [
    "## Part 1\n",
    "\n",
    "For example:\n",
    "\n",
    "```\n",
    "1abc2\n",
    "pqr3stu8vwx\n",
    "a1b2c3d4e5f\n",
    "treb7uchet\n",
    "```\n",
    "\n",
    "In this example, the calibration values of these four lines are 12, 38, 15, and 77. Adding these together produces 142.\n",
    "\n",
    "Consider your entire calibration document. What is the sum of all of the calibration values?"
   ]
  },
  {
   "cell_type": "markdown",
   "id": "0539e769",
   "metadata": {},
   "source": [
    "To solve this, I'm using [regular expressions](https://docs.python.org/3/library/re.html) which are a powerful way to find patterns in strings.\n",
    "\n",
    "For each calibration string, I find all the numbers (`\\d` means \"any single digit\") with [re.findall](https://docs.python.org/3/library/re.html#re.findall), then concatenate them into a single number with [f-strings](https://fstring.help/) and convert to an integer.\n",
    "\n",
    "In Python, you can index lists with numbers where 0 is the **first** index. With negative values, you start reading the list from the end so -1 gives us the **last** value. "
   ]
  },
  {
   "cell_type": "code",
   "execution_count": 13,
   "id": "dd0408e4",
   "metadata": {},
   "outputs": [],
   "source": [
    "import re\n",
    "\n",
    "def recalibrate(calibrations):\n",
    "    result = 0\n",
    "    for calibration in calibrations:\n",
    "        numbers = re.findall(r'\\d', calibration)\n",
    "        calibration_value = int(f'{numbers[0]}{numbers[-1]}')\n",
    "        result += calibration_value\n",
    "    return result"
   ]
  },
  {
   "cell_type": "code",
   "execution_count": 14,
   "id": "9a87d7eb",
   "metadata": {},
   "outputs": [
    {
     "name": "stdout",
     "output_type": "stream",
     "text": [
      "Solution: 54632\n"
     ]
    }
   ],
   "source": [
    "part_1 = recalibrate(calibrations)\n",
    "print(f'Solution: {part_1}')\n",
    "assert part_1 == 54632"
   ]
  },
  {
   "cell_type": "markdown",
   "id": "d53b1fa1",
   "metadata": {},
   "source": [
    "## Part 2\n",
    "\n",
    "Your calculation isn't quite right. It looks like some of the digits are actually spelled out with letters: one, two, three, four, five, six, seven, eight, and nine also count as valid \"digits\".\n",
    "\n",
    "Equipped with this new information, you now need to find the real first and last digit on each line. For example:\n",
    "\n",
    "```\n",
    "two1nine\n",
    "eightwothree\n",
    "abcone2threexyz\n",
    "xtwone3four\n",
    "4nineeightseven2\n",
    "zoneight234\n",
    "7pqrstsixteen\n",
    "```\n",
    "\n",
    "In this example, the calibration values are 29, 83, 13, 24, 42, 14, and 76. Adding these together produces 281.\n",
    "\n",
    "What is the sum of all of the calibration values?"
   ]
  },
  {
   "cell_type": "markdown",
   "id": "b16ee626",
   "metadata": {},
   "source": [
    "This second part gave me a bit of a headache as I was getting an incorrect number despite everything initially looking good. It turned out, there were overlaps within those number strings (for example, `eightwo`) with which my initial regex (`\\d|one|two|three|four|five|six|seven|eight|nine`) only found the first one.\n",
    "\n",
    "For the solution, there are two main changes:\n",
    "\n",
    "First, I changed the regex pattern to also include each of the allowed word numbers and I used a lookahead assertion (`?=`) to make sure my regex found all the matches, not only the ones that first appear in these overlaps.\n",
    "\n",
    "Second change was to create a `convert_to_int` function that takes a string that is either a number ('1-9') or one of those word numbers ('one-nine') and converts it to an integer. To do that, I rely on two mechanics. First, I created a list with these word numbers (including `zero` which is not an allowed value in this exercise but pads out the indices nicely) and then I try to convert the string to integer with `int()` and if that fails because `numberish` is not a valid number, I find its correct index with `.index()` method.\n",
    "\n",
    "This `convert_to_int` function will fail if its passed anything that is not a number nor on that list. If I were to write it in a real environment, I'd add some more error handling but since it's a puzzle and we're guaranteed by our regex earlier to only pass valid values, I'll let it be as it is."
   ]
  },
  {
   "cell_type": "code",
   "execution_count": 68,
   "id": "ec24de99",
   "metadata": {},
   "outputs": [],
   "source": [
    "def convert_to_int(numberish):\n",
    "    \"\"\"\n",
    "    Takes a string that is either a numeric value (0-9) or\n",
    "    one of the single digit values written as words.\n",
    "    \n",
    "    Converts the number into a Python integer.\n",
    "    \n",
    "    Throws ValueError if the argument is none of the \n",
    "    valid values.\n",
    "    \"\"\"\n",
    "    names_to_values = [\n",
    "        'zero', 'one', 'two', \n",
    "        'three', 'four', 'five', \n",
    "        'six', 'seven', 'eight', \n",
    "        'nine'\n",
    "    ]\n",
    "    try:\n",
    "        return int(numberish)\n",
    "    except ValueError:\n",
    "        return names_to_values.index(numberish)\n",
    "\n",
    "def calibrate_p2(calibrations):\n",
    "    result = 0\n",
    "    for calibration in calibrations:\n",
    "        numbers = re.findall(r'(?=(\\d|one|two|three|four|five|six|seven|eight|nine))', calibration)\n",
    "        first, last = convert_to_int(numbers[0]), convert_to_int(numbers[-1])\n",
    "        calibration_value = int(f'{first}{last}')\n",
    "        result += calibration_value\n",
    "    return result"
   ]
  },
  {
   "cell_type": "code",
   "execution_count": 69,
   "id": "7fafaed5",
   "metadata": {},
   "outputs": [
    {
     "name": "stdout",
     "output_type": "stream",
     "text": [
      "Solution: 54019\n"
     ]
    }
   ],
   "source": [
    "part_2 = calibrate_p2(calibrations)\n",
    "print(f'Solution: {part_2}')\n",
    "assert part_2 == 54019"
   ]
  },
  {
   "cell_type": "markdown",
   "id": "f15320ab",
   "metadata": {},
   "source": [
    "## Two stars!\n",
    "\n",
    "First day in the bag with full two stars ⭐️⭐️"
   ]
  }
 ],
 "metadata": {
  "kernelspec": {
   "display_name": "Python 3 (ipykernel)",
   "language": "python",
   "name": "python3"
  },
  "language_info": {
   "codemirror_mode": {
    "name": "ipython",
    "version": 3
   },
   "file_extension": ".py",
   "mimetype": "text/x-python",
   "name": "python",
   "nbconvert_exporter": "python",
   "pygments_lexer": "ipython3",
   "version": "3.10.0"
  }
 },
 "nbformat": 4,
 "nbformat_minor": 5
}
