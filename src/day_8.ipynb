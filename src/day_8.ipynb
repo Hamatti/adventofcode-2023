{
 "cells": [
  {
   "cell_type": "markdown",
   "id": "581de2b9",
   "metadata": {},
   "source": [
    "> # Day 8: Haunted Wasteland\n",
    "> \n",
    "> You're still riding a camel across Desert Island when you spot a sandstorm quickly approaching. When you turn to warn the Elf, she disappears before your eyes! To be fair, she had just finished warning you about ghosts a few minutes ago.\n",
    "> \n",
    "> One of the camel's pouches is labeled \"maps\" - sure enough, it's full of documents (your puzzle input) about how to navigate the desert. At least, you're pretty sure that's what they are; one of the documents contains a list of left/right instructions, and the rest of the documents seem to describe some kind of network of labeled nodes.\n",
    "> \n",
    "> It seems like you're meant to use the left/right instructions to navigate the network. Perhaps if you have the camel follow the same instructions, you can escape the haunted wasteland!\n",
    "> \n",
    "> After examining the maps for a bit, two nodes stick out: AAA and ZZZ. You feel like AAA is where you are now, and you have to follow the left/right instructions until you reach ZZZ.\n",
    "> \n",
    "> This format defines each node of the network individually. For example:\n",
    ">```\n",
    ">RL\n",
    ">\n",
    ">AAA = (BBB, CCC)\n",
    ">BBB = (DDD, EEE)\n",
    ">CCC = (ZZZ, GGG)\n",
    ">DDD = (DDD, DDD)\n",
    ">EEE = (EEE, EEE)\n",
    ">GGG = (GGG, GGG)\n",
    ">ZZZ = (ZZZ, ZZZ)\n",
    ">```\n",
    ">Starting with AAA, you need to look up the next element based on the next left/right instruction in your input. In this example, start with AAA and go right (R) by choosing the right element of AAA, CCC. Then, L means to choose the left element of CCC, ZZZ. By following the left/right instructions, you reach ZZZ in 2 steps.\n",
    ">\n",
    ">Of course, you might not find ZZZ right away. If you run out of left/right instructions, repeat the whole sequence of instructions as necessary: RL really means RLRLRLRLRLRLRLRL... and so on. For example, here is a situation that takes 6 steps to reach ZZZ:\n",
    ">```\n",
    ">LLR\n",
    ">\n",
    ">AAA = (BBB, BBB)\n",
    ">BBB = (AAA, ZZZ)\n",
    ">ZZZ = (ZZZ, ZZZ)\n",
    ">```\n",
    ">\n",
    ">Starting at AAA, follow the left/right instructions. How many steps are required to reach ZZZ?"
   ]
  },
  {
   "cell_type": "markdown",
   "id": "35be6016",
   "metadata": {},
   "source": [
    "## Read input"
   ]
  },
  {
   "cell_type": "markdown",
   "id": "4ebaf6be",
   "metadata": {},
   "source": [
    "This time I modified my utils.py mini-library by adding a multisection reader. To use it, I need to pass a list of transformers that needs to match the length of the sections.\n",
    "\n",
    "To parse today's inputs, the instructions are left as they are and for the node connections, I find all 3-length alphanumeric strings and store them in a dictionary so that first of them is the key and the last two are a tuple."
   ]
  },
  {
   "cell_type": "code",
   "execution_count": 1,
   "id": "212b6fd7",
   "metadata": {},
   "outputs": [],
   "source": [
    "import re\n",
    "from utils import read_multisection_input\n",
    "\n",
    "def map_transformer(section):\n",
    "    the_map = {}\n",
    "    for line in section.split('\\n'):\n",
    "        key, left, right = re.findall(r'[0-9A-Z]{3}', line)\n",
    "        the_map[key] = (left, right)\n",
    "    return the_map\n",
    "\n",
    "instructions, the_map = read_multisection_input(8, [str, map_transformer])"
   ]
  },
  {
   "cell_type": "markdown",
   "id": "0aea94c4",
   "metadata": {},
   "source": [
    "To solve this puzzle, I start with node `AAA` and loop until I have stepped into `ZZZ`.\n",
    "\n",
    "To keep `instructions` running even if it runs out, I use [itertools.cycle](https://docs.python.org/3/library/itertools.html#itertools.cycle).\n",
    "\n",
    "I them pattern match against the instructions and either take the first or the second of the next values. In part 2 I realized that pattern matching was bit too much here since we just have two values but I wanted to leave it here so you can compare it with the if/else choice in part 2."
   ]
  },
  {
   "cell_type": "code",
   "execution_count": 9,
   "id": "fd4c01ea",
   "metadata": {},
   "outputs": [
    {
     "name": "stdout",
     "output_type": "stream",
     "text": [
      "Solution: 24253\n"
     ]
    }
   ],
   "source": [
    "from itertools import cycle\n",
    "\n",
    "def solve_part_1(instructions, the_map):\n",
    "    current = 'AAA'\n",
    "    end = 'ZZZ'\n",
    "\n",
    "    steps = 0\n",
    "    for instruction in cycle(instructions):\n",
    "        steps += 1\n",
    "        match instruction:\n",
    "            case 'L':\n",
    "                current = the_map[current][0]\n",
    "            case 'R':\n",
    "                current = the_map[current][1]\n",
    "        if current == end:\n",
    "            return steps\n",
    "            break\n",
    "\n",
    "part_1 = solve_part_1(instructions, the_map)\n",
    "print(f'Solution: {part_1}')\n",
    "assert part_1 == 24253"
   ]
  },
  {
   "cell_type": "markdown",
   "id": "29a04e21",
   "metadata": {},
   "source": [
    "## Part 2\n",
    "\n",
    ">The sandstorm is upon you and you aren't any closer to escaping the wasteland. You had the camel follow the instructions, but you've barely left your starting position. It's going to take significantly more steps to escape!\n",
    ">\n",
    ">What if the map isn't for people - what if the map is for ghosts? Are ghosts even bound by the laws of spacetime? Only one way to find out.\n",
    ">\n",
    ">After examining the maps a bit longer, your attention is drawn to a curious fact: the number of nodes with names ending in A is equal to the number ending in Z! If you were a ghost, you'd probably just start at every node that ends with A and follow all of the paths at the same time until they all simultaneously end up at nodes that end with Z.\n",
    ">\n",
    ">For example:\n",
    ">```\n",
    ">LR\n",
    ">\n",
    ">11A = (11B, XXX)\n",
    ">11B = (XXX, 11Z)\n",
    ">11Z = (11B, XXX)\n",
    ">22A = (22B, XXX)\n",
    ">22B = (22C, 22C)\n",
    ">22C = (22Z, 22Z)\n",
    ">22Z = (22B, 22B)\n",
    ">XXX = (XXX, XXX)\n",
    ">```\n",
    ">Here, there are two starting nodes, 11A and 22A (because they both end with A). As you follow each left/right instruction, use that instruction to simultaneously navigate away from both nodes you're currently on. Repeat this process until all of the nodes you're currently on end with Z. (If only some of the nodes you're on end with Z, they act like any other node and you continue as normal.) In this example, you would proceed as follows:\n",
    ">\n",
    ">- Step 0: You are at 11A and 22A.\n",
    ">- Step 1: You choose all of the left paths, leading you to 11B and 22B.\n",
    ">- Step 2: You choose all of the right paths, leading you to 11Z and 22C.\n",
    ">- Step 3: You choose all of the left paths, leading you to 11B and 22Z.\n",
    ">- Step 4: You choose all of the right paths, leading you to 11Z and 22B.\n",
    ">- Step 5: You choose all of the left paths, leading you to 11B and 22C.\n",
    ">- Step 6: You choose all of the right paths, leading you to 11Z and 22Z.\n",
    ">\n",
    ">So, in this example, you end up entirely on nodes that end in Z after 6 steps.\n",
    ">\n",
    ">Simultaneously start on every node that ends with A. How many steps does it take before you're only on nodes that end with Z?"
   ]
  },
  {
   "cell_type": "markdown",
   "id": "f3ee9211",
   "metadata": {},
   "source": [
    "Today's second part was a very traditional Advent of Code second parter.\n",
    "\n",
    "I started with a naive solution just to see if it would work. I found all the start nodes and walked the path. After an hour or so with no result, I decided it's time to use my brain and think.\n",
    "\n",
    "Few years ago, I would have never solved this particular one. This year, thanks to my Advent of Code practice, I figured surprisingly fast what was happening and what needed to be done. I need to find the cycle with which each of these nodes starts to loop.\n",
    "\n",
    "To do that, I use `find_loop` function that keeps track of each `(step, node)` combination. If I find a combination that already exists, I return since we know that it starts a new loop. In this function, I replaced the pattern matching with a `idx = 0 if instruction == 'L' else 1`. I'm not a big fan of these kind of inline if/else patterns but I feel this one is simple enough to understand that it's okay. In real life, it's a 50/50 whether I'd refactor it into something better.\n",
    "\n",
    "I then have another helper function that finds the last node ending with `Z` since that's the one we are really interested in. This time, I use `i in range(len(seq))` instead of looping over an reversed list because the lists are huge and this saves a ton of memory space and time.\n",
    "\n",
    "To solve the puzzle, I loop over all the start nodes (nodes ending with `A`), find where they start looping, then find the step of the last z-ending node. I then calculate the least common multiple (lcm) which is the result.\n",
    "\n",
    "Don't ask me how I know to use lcm. I've just ran into it enough times that I knew a puzzle of this nature probably uses it. Ask more detailed questions from someone who understands maths."
   ]
  },
  {
   "cell_type": "code",
   "execution_count": 12,
   "id": "0d499914",
   "metadata": {},
   "outputs": [
    {
     "name": "stdout",
     "output_type": "stream",
     "text": [
      "Solution: 12357789728873\n"
     ]
    }
   ],
   "source": [
    "import math\n",
    "from itertools import cycle\n",
    "\n",
    "\n",
    "def find_loop(node, the_map, instructions):\n",
    "    sequence = []\n",
    "    step = 0\n",
    "    instructions_length = len(instructions)\n",
    "    for instruction in cycle(instructions):\n",
    "        idx = 0 if instruction == 'L' else 1\n",
    "        node = the_map[node][idx]\n",
    "        \n",
    "        mod_step = step % instructions_length\n",
    "        if (mod_step, node) in sequence:\n",
    "            return step, sequence\n",
    "        \n",
    "        sequence.append((mod_step, node))\n",
    "        step += 1\n",
    "        \n",
    "def find_last_z_node(seq):\n",
    "    for i in range(len(seq)):\n",
    "        node = seq[-(i+1)][1]\n",
    "        if node.endswith('Z'):\n",
    "            return i\n",
    "\n",
    "start_nodes = [key for key in the_map if key.endswith('A')]\n",
    "last_z_in_each_loop = []\n",
    "for node in start_nodes:\n",
    "    loop_step, seq = find_loop(node, the_map, instructions)\n",
    "    last_z_offset = find_last_z_node(seq)\n",
    "    last_z_in_each_loop.append(loop_step - last_z_offset)\n",
    "\n",
    "part_2 = math.lcm(*last_z_in_each_loop)\n",
    "print(f'Solution: {part_2}')\n",
    "assert part_2 == 12357789728873"
   ]
  },
  {
   "cell_type": "markdown",
   "id": "9397c8c5",
   "metadata": {},
   "source": [
    "## Few ways to get the next step\n",
    "\n",
    "There are multiple different ways to map our next step based on an instruction and a map.\n",
    "\n",
    "In each of these, the `node` refers to current position and `the_map` is a dictionary that looks like `{ \"key\": (\"left_node\", \"right_node\") }`.\n",
    "\n",
    "Which one to use depends on the case and how many different options there are. The if/else in either form is great if there's only 2 options. With more options, I'd use either a dictionary or pattern matching approach. Pattern matching gives the best \"bang for buck\" as it improves readability and enables doing more than just simple value mapping like guards or more complex patterns.\n",
    "\n",
    "### Using if/else:\n",
    "\n",
    "```python\n",
    "if instruction == 'L':\n",
    "    node = the_map[node][0]\n",
    "else:\n",
    "    node = the_map[node][1]\n",
    "```\n",
    "\n",
    "or with ternary operation:\n",
    "\n",
    "```python\n",
    "index = 0 if instruction == 'L' else 1\n",
    "node = the_map[node][idx]\n",
    "```\n",
    "\n",
    "### Using pattern matching:\n",
    "\n",
    "```python\n",
    "match instruction:\n",
    "    case 'L':\n",
    "        node = the_map[node][0]\n",
    "    case 'R':\n",
    "        node = the_map[node][1]\n",
    "```\n",
    "\n",
    "### Using a dictionary\n",
    "\n",
    "```python\n",
    "left_right = { 'left': 0, 'right': 1 }\n",
    "node = the_map[node][left_right[instruction]]\n",
    "```"
   ]
  },
  {
   "cell_type": "markdown",
   "id": "b5af38ca",
   "metadata": {},
   "source": [
    "## Two stars!\n",
    "\n",
    "16/50, we're on a really good path here."
   ]
  }
 ],
 "metadata": {
  "kernelspec": {
   "display_name": "Python 3 (ipykernel)",
   "language": "python",
   "name": "python3"
  },
  "language_info": {
   "codemirror_mode": {
    "name": "ipython",
    "version": 3
   },
   "file_extension": ".py",
   "mimetype": "text/x-python",
   "name": "python",
   "nbconvert_exporter": "python",
   "pygments_lexer": "ipython3",
   "version": "3.10.0"
  }
 },
 "nbformat": 4,
 "nbformat_minor": 5
}
