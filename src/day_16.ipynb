{
 "cells": [
  {
   "cell_type": "markdown",
   "id": "96de0556",
   "metadata": {},
   "source": [
    "> # Day 16: The Floor Will Be Lava \n",
    ">\n",
    ">With the beam of light completely focused somewhere, the reindeer leads you deeper still into the Lava Production Facility. At some point, you realize that the steel facility walls have been replaced with cave, and the doorways are just cave, and the floor is cave, and you're pretty sure this is actually just a giant cave.\n",
    ">\n",
    ">Finally, as you approach what must be the heart of the mountain, you see a bright light in a cavern up ahead. There, you discover that the beam of light you so carefully focused is emerging from the cavern wall closest to the facility and pouring all of its energy into a contraption on the opposite side.\n",
    ">\n",
    ">Upon closer inspection, the contraption appears to be a flat, two-dimensional square grid containing empty space (.), mirrors (/ and \\), and splitters (| and -).\n",
    ">\n",
    ">The contraption is aligned so that most of the beam bounces around the grid, but each tile on the grid converts some of the beam's light into heat to melt the rock in the cavern.\n",
    ">\n",
    ">You note the layout of the contraption (your puzzle input). For example:\n",
    ">```\n",
    ">.|...\\....\n",
    ">|.-.\\.....\n",
    ">.....|-...\n",
    ">........|.\n",
    ">..........\n",
    ">.........\\\n",
    ">..../.\\\\..\n",
    ">.-.-/..|..\n",
    ">.|....-|.\\\n",
    ">..//.|....\n",
    ">```\n",
    ">The beam enters in the top-left corner from the left and heading to the right. Then, its behavior depends on what it encounters as it moves:\n",
    ">\n",
    "> - If the beam encounters empty space (.), it continues in the same direction.\n",
    "> - If the beam encounters a mirror (/ or \\), the beam is reflected 90 degrees depending on the angle of the mirror. For instance, a rightward-moving beam that encounters a / mirror would continue upward in the mirror's column, while a rightward-moving beam that encounters a \\ mirror would continue downward from the mirror's column.\n",
    "> - If the beam encounters the pointy end of a splitter (| or -), the beam passes through the splitter as if the splitter were empty space. For instance, a rightward-moving beam that encounters a - splitter would continue in the same direction.\n",
    "> - If the beam encounters the flat side of a splitter (| or -), the beam is split into two beams going in each of the two directions the splitter's pointy ends are pointing. For instance, a rightward-moving beam that encounters a | splitter would split into two beams: one that continues upward from the splitter's column and one that continues downward from the splitter's column.\n",
    ">\n",
    ">Beams do not interact with other beams; a tile can have many beams passing through it at the same time. A tile is energized if that tile has at least one beam pass through it, reflect in it, or split in it.\n",
    ">\n",
    ">In the above example, here is how the beam of light bounces around the contraption:\n",
    ">```\n",
    ">>|<<<\\....\n",
    ">|v-.\\^....\n",
    ">.v...|->>>\n",
    ">.v...v^.|.\n",
    ">.v...v^...\n",
    ">.v...v^..\\\n",
    ">.v../2\\\\..\n",
    "><->-/vv|..\n",
    ">.|<<<2-|.\\\n",
    ">.v//.|.v..\n",
    ">```\n",
    ">Beams are only shown on empty tiles; arrows indicate the direction of the beams. If a tile contains beams moving in multiple directions, the number of distinct directions is shown instead. Here is the same diagram but instead only showing whether a tile is energized (#) or not (.):\n",
    ">```\n",
    ">######....\n",
    ">.#...#....\n",
    ">.#...#####\n",
    ">.#...##...\n",
    ">.#...##...\n",
    ">.#...##...\n",
    ">.#..####..\n",
    ">########..\n",
    ">.#######..\n",
    ">.#...#.#..\n",
    ">```\n",
    ">Ultimately, in this example, 46 tiles become energized.\n",
    ">\n",
    ">The light isn't energizing enough tiles to produce lava; to debug the contraption, you need to start by analyzing the current situation. With the beam starting in the top-left heading right, how many tiles end up being energized?\n"
   ]
  },
  {
   "cell_type": "markdown",
   "id": "4aefb3cb",
   "metadata": {},
   "source": [
    "I don't know if it's a recency bias or what but I feel like there's been a lot of grid based puzzles this year and I'm having a bit of tournament fatigue with them.\n",
    "\n",
    "Today's one was not the toughest though for me. I made a silly mistake that slowed down the execution a ton (by a magnitude of ~1000) but other than that, got through on the second try. I also didn't realize at the beginning that there can be loops that need to be detected."
   ]
  },
  {
   "cell_type": "markdown",
   "id": "fdceb1a8",
   "metadata": {},
   "source": [
    "## Read input"
   ]
  },
  {
   "cell_type": "markdown",
   "id": "993a40cc",
   "metadata": {},
   "source": [
    "I read the input into a dictionary with Complex Number Coordinate System (where `(x,y)` maps to `x + y*1j`)."
   ]
  },
  {
   "cell_type": "code",
   "execution_count": 1,
   "id": "7482c96e",
   "metadata": {},
   "outputs": [],
   "source": [
    "from utils import read_input\n",
    "\n",
    "def make_grid(inp):\n",
    "    grid = {}\n",
    "    for y, row in enumerate(inp):\n",
    "        for x, cell in enumerate(row):\n",
    "            grid[x + y * -1j] = cell\n",
    "    return grid\n",
    "\n",
    "grid = make_grid(read_input(16, list))"
   ]
  },
  {
   "cell_type": "markdown",
   "id": "5f1b5836",
   "metadata": {},
   "source": [
    "To help out with readability, I have to helper classes with constants for different grid elements and directions."
   ]
  },
  {
   "cell_type": "code",
   "execution_count": 2,
   "id": "cc430444",
   "metadata": {},
   "outputs": [],
   "source": [
    "class Grid:\n",
    "    EMPTY = '.'\n",
    "    VERTICAL_SPLITTER = '|'\n",
    "    HORIZONTAL_SPLITTER = '-'\n",
    "    FORWARD_MIRROR = '/'\n",
    "    BACKWARD_MIRROR = '\\\\'\n",
    "    \n",
    "class Direction:\n",
    "    RIGHT = 1\n",
    "    LEFT = -1\n",
    "    UP = 1j\n",
    "    DOWN = -1j"
   ]
  },
  {
   "cell_type": "markdown",
   "id": "884372ac",
   "metadata": {},
   "source": [
    "The main solution is a recursive function that follows the path of the beam.\n",
    "\n",
    "It's base cases are if we run out of the grid or we run into a loop (which is identified by a coordinate + direction combo being tracked). In these cases, we return the set of all visited coordinate + direction combos.\n",
    "\n",
    "Otherwise, we add our current coordinate + direction to the collection and then use Python's pattern matching to match our current location's content and direction to see where we move next.\n",
    "\n",
    "I really like how clean and readable the pattern match combined with our helper constant classes make this function."
   ]
  },
  {
   "cell_type": "code",
   "execution_count": 3,
   "id": "4ee76732",
   "metadata": {},
   "outputs": [],
   "source": [
    "def energize(grid, current, energized, direction):\n",
    "    if current not in grid:\n",
    "        return energized\n",
    "    if (current, direction) in energized:\n",
    "        return energized\n",
    "    \n",
    "    energized.add((current, direction))\n",
    "\n",
    "    match grid[current]:\n",
    "        case Grid.EMPTY:\n",
    "            return energize(grid, current + direction, energized, direction)\n",
    "        case Grid.FORWARD_MIRROR:\n",
    "            match direction:\n",
    "                case Direction.RIGHT:\n",
    "                    return energize(grid, current + Direction.UP, energized, Direction.UP)\n",
    "                case Direction.DOWN:\n",
    "                    return energize(grid, current + Direction.LEFT, energized, Direction.LEFT)\n",
    "                case Direction.LEFT:\n",
    "                    return energize(grid, current + Direction.DOWN, energized, Direction.DOWN)\n",
    "                case Direction.UP:\n",
    "                    return energize(grid, current + Direction.RIGHT, energized, Direction.RIGHT)\n",
    "                case _:\n",
    "                    raise ValueError('Unknown direction')\n",
    "        case Grid.BACKWARD_MIRROR:\n",
    "            match direction:\n",
    "                case Direction.RIGHT:\n",
    "                    return energize(grid, current + Direction.DOWN, energized, Direction.DOWN)\n",
    "                case Direction.DOWN:\n",
    "                    return energize(grid, current + Direction.RIGHT, energized, Direction.RIGHT)\n",
    "                case Direction.LEFT:\n",
    "                    return energize(grid, current + Direction.UP, energized, Direction.UP)\n",
    "                case Direction.UP:\n",
    "                    return energize(grid, current + Direction.LEFT, energized, Direction.LEFT)\n",
    "                case _:\n",
    "                    raise ValueError('Unknown direction')\n",
    "        case Grid.VERTICAL_SPLITTER:\n",
    "            match direction:\n",
    "                case Direction.UP | Direction.DOWN:\n",
    "                    return energize(grid, current + direction, energized, direction)\n",
    "                case Direction.LEFT | Direction.RIGHT:\n",
    "                    return (\n",
    "                        energize(grid, current + Direction.UP, energized, Direction.UP) |\n",
    "                        energize(grid, current + Direction.DOWN, energized, Direction.DOWN)\n",
    "                    )\n",
    "                case _:\n",
    "                    raise ValueError('Unknown direction')\n",
    "        case Grid.HORIZONTAL_SPLITTER:\n",
    "            match direction:\n",
    "                case Direction.RIGHT | Direction.LEFT:\n",
    "                    return energize(grid, current + direction, energized, direction)\n",
    "                case Direction.UP | Direction.DOWN:\n",
    "                    return (\n",
    "                        energize(grid, current + Direction.RIGHT, energized, Direction.RIGHT) |\n",
    "                        energize(grid, current + Direction.LEFT, energized, Direction.LEFT)\n",
    "                    )\n",
    "                case _:\n",
    "                    raise ValueError('Unknown direction')\n",
    "        case _:\n",
    "            raise ValueError('Unknown title')"
   ]
  },
  {
   "cell_type": "markdown",
   "id": "a6a745dc",
   "metadata": {},
   "source": [
    "To calculate the number of energized tiles, I put all the coordinates in a set and return its length."
   ]
  },
  {
   "cell_type": "code",
   "execution_count": 4,
   "id": "dddc8e2c",
   "metadata": {},
   "outputs": [],
   "source": [
    "def count_energized_tiles(energized):\n",
    "    return len(set(coord for (coord, direction) in energized))"
   ]
  },
  {
   "cell_type": "code",
   "execution_count": 5,
   "id": "23af812d",
   "metadata": {},
   "outputs": [
    {
     "name": "stdout",
     "output_type": "stream",
     "text": [
      "Solution: 7210\n"
     ]
    }
   ],
   "source": [
    "energized_grid = energize(grid, 0, set(), 1)\n",
    "part_1 = count_energized_tiles(energized_grid)\n",
    "\n",
    "print(f'Solution: {part_1}')\n",
    "assert part_1 == 7210"
   ]
  },
  {
   "cell_type": "markdown",
   "id": "5f00481c",
   "metadata": {},
   "source": [
    "## Part 2\n",
    "\n",
    ">As you try to work out what might be wrong, the reindeer tugs on your shirt and leads you to a nearby control panel. There, a collection of buttons lets you align the contraption so that the beam enters from any edge tile and heading away from that edge. (You can choose either of two directions for the beam if it starts on a corner; for instance, if the beam starts in the bottom-right corner, it can start heading either left or upward.)\n",
    ">\n",
    ">So, the beam could start on any tile in the top row (heading downward), any tile in the bottom row (heading upward), any tile in the leftmost column (heading right), or any tile in the rightmost column (heading left). To produce lava, you need to find the configuration that energizes as many tiles as possible.\n",
    ">\n",
    ">In the above example, this can be achieved by starting the beam in the fourth tile from the left in the top row:\n",
    ">```\n",
    ">.|<2<\\....\n",
    ">|v-v\\^....\n",
    ">.v.v.|->>>\n",
    ">.v.v.v^.|.\n",
    ">.v.v.v^...\n",
    ">.v.v.v^..\\\n",
    ">.v.v/2\\\\..\n",
    "><-2-/vv|..\n",
    ">.|<<<2-|.\\\n",
    ">.v//.|.v..\n",
    ">```\n",
    ">Using this configuration, 51 tiles are energized:\n",
    ">```\n",
    ">.#####....\n",
    ">.#.#.#....\n",
    ">.#.#.#####\n",
    ">.#.#.##...\n",
    ">.#.#.##...\n",
    ">.#.#.##...\n",
    ">.#.#####..\n",
    ">########..\n",
    ">.#######..\n",
    ">.#...#.#..\n",
    ">```\n",
    ">Find the initial beam configuration that energizes the largest number of tiles; how many tiles are energized in that configuration?"
   ]
  },
  {
   "cell_type": "markdown",
   "id": "fab5cf7d",
   "metadata": {},
   "source": [
    "For the second part, I generate all the possible starting coordinates with their accompanied starting directions."
   ]
  },
  {
   "cell_type": "code",
   "execution_count": 6,
   "id": "a1e8f303",
   "metadata": {},
   "outputs": [],
   "source": [
    "def generate_start_coords(grid):\n",
    "    min_x = 0\n",
    "    max_x = int(max(coord.real for coord in grid))\n",
    "    min_y = int(min(coord.imag for coord in grid))\n",
    "    max_y = 0\n",
    "    \n",
    "    top_row = [(x, Direction.DOWN) for x in range(min_x, max_x+1)]\n",
    "    bottom_row = [(x + min_y*1j, Direction.UP) for x in range(min_x, max_x+1)]\n",
    "    \n",
    "    left_column = [(y*1j, Direction.RIGHT) for y in range(min_y, max_y+1)]\n",
    "    right_column = [(max_x + y*1j, Direction.LEFT) for y in range(min_y, max_y+1)]\n",
    "    return top_row + bottom_row + left_column + right_column\n",
    "    "
   ]
  },
  {
   "cell_type": "markdown",
   "id": "edca92de",
   "metadata": {},
   "source": [
    "The longest beam had more steps than the default recursion limit so I had to bump it up a bit before trying every starting position and keeping track of the largest one.\n",
    "\n",
    "This is not a particularly fast solution. With different data structures, I could probably memoize the different beam movements, making it way faster. "
   ]
  },
  {
   "cell_type": "code",
   "execution_count": 7,
   "id": "a157999e",
   "metadata": {
    "scrolled": true
   },
   "outputs": [
    {
     "name": "stdout",
     "output_type": "stream",
     "text": [
      "Solution: 7673\n"
     ]
    }
   ],
   "source": [
    "import sys\n",
    "sys.setrecursionlimit(30000)\n",
    "\n",
    "most_energized = 0\n",
    "for coord, direction in generate_start_coords(grid):\n",
    "    energized = count_energized_tiles(energize(grid, coord, set(), direction))\n",
    "    most_energized = max(energized, most_energized)\n",
    "\n",
    "print(f'Solution: {most_energized}')\n",
    "assert most_energized == 7673"
   ]
  },
  {
   "cell_type": "markdown",
   "id": "715ede5e",
   "metadata": {},
   "source": [
    "## Two stars\n",
    "\n",
    "32 stars!"
   ]
  }
 ],
 "metadata": {
  "kernelspec": {
   "display_name": "Python 3 (ipykernel)",
   "language": "python",
   "name": "python3"
  },
  "language_info": {
   "codemirror_mode": {
    "name": "ipython",
    "version": 3
   },
   "file_extension": ".py",
   "mimetype": "text/x-python",
   "name": "python",
   "nbconvert_exporter": "python",
   "pygments_lexer": "ipython3",
   "version": "3.10.0"
  }
 },
 "nbformat": 4,
 "nbformat_minor": 5
}
