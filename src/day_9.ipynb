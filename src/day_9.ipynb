{
 "cells": [
  {
   "cell_type": "markdown",
   "id": "09760e86",
   "metadata": {},
   "source": [
    "># Day 9: Mirage Maintenance\n",
    ">\n",
    ">You ride the camel through the sandstorm and stop where the ghost's maps told you to stop. The sandstorm subsequently subsides, somehow seeing you standing at an oasis!\n",
    ">\n",
    ">The camel goes to get some water and you stretch your neck. As you look up, you discover what must be yet another giant floating island, this one made of metal! That must be where the parts to fix the sand machines come from.\n",
    ">\n",
    ">There's even a hang glider partially buried in the sand here; once the sun rises and heats up the sand, you might be able to use the glider and the hot air to get all the way up to the metal island!\n",
    ">\n",
    ">While you wait for the sun to rise, you admire the oasis hidden here in the middle of Desert Island. It must have a delicate ecosystem; you might as well take some ecological readings while you wait. Maybe you can report any environmental instabilities you find to someone so the oasis can be around for the next sandstorm-worn traveler.\n",
    ">\n",
    ">You pull out your handy Oasis And Sand Instability Sensor and analyze your surroundings. The OASIS produces a report of many values and how they are changing over time (your puzzle input). Each line in the report contains the history of a single value. For example:\n",
    ">```\n",
    "0 3 6 9 12 15\n",
    "1 3 6 10 15 21\n",
    "10 13 16 21 30 45\n",
    ">```\n",
    ">To best protect the oasis, your environmental report should include a prediction of the next value in each history. To do this, start by making a new sequence from the difference at each step of your history. If that sequence is not all zeroes, repeat this process, using the sequence you just generated as the input sequence. Once all of the values in your latest sequence are zeroes, you can extrapolate what the next value of the original history should be.\n",
    ">\n",
    ">In the above dataset, the first history is 0 3 6 9 12 15. Because the values increase by 3 each step, the first sequence of differences that you generate will be 3 3 3 3 3. Note that this sequence has one fewer value than the input sequence because at each step it considers two numbers from the input. Since these values aren't all zero, repeat the process: the values differ by 0 at each step, so the next sequence is 0 0 0 0. This means you have enough information to extrapolate the history! Visually, these sequences can be arranged like this:\n",
    ">```\n",
    "0   3   6   9  12  15\n",
    "  3   3   3   3   3\n",
    "    0   0   0   0\n",
    ">```\n",
    ">To extrapolate, start by adding a new zero to the end of your list of zeroes; because the zeroes represent differences between the two values above them, this also means there is now a placeholder in every sequence above it:\n",
    ">```\n",
    "0   3   6   9  12  15   B\n",
    "  3   3   3   3   3   A\n",
    "    0   0   0   0   0\n",
    ">```\n",
    ">You can then start filling in placeholders from the bottom up. A needs to be the result of increasing 3 (the value to its left) by 0 (the value below it); this means A must be 3:\n",
    ">```\n",
    "0   3   6   9  12  15   B\n",
    "  3   3   3   3   3   3\n",
    "    0   0   0   0   0\n",
    ">```\n",
    ">Finally, you can fill in B, which needs to be the result of increasing 15 (the value to its left) by 3 (the value below it), or 18:\n",
    ">```\n",
    "0   3   6   9  12  15  18\n",
    "  3   3   3   3   3   3\n",
    "    0   0   0   0   0\n",
    ">```\n",
    ">So, the next value of the first history is 18.\n",
    ">\n",
    ">Finding all-zero differences for the second history requires an additional sequence:\n",
    ">```\n",
    "1   3   6  10  15  21\n",
    "  2   3   4   5   6\n",
    "    1   1   1   1\n",
    "      0   0   0\n",
    ">```\n",
    ">Then, following the same process as before, work out the next value in each sequence from the bottom up:\n",
    ">```\n",
    "1   3   6  10  15  21  28\n",
    "  2   3   4   5   6   7\n",
    "    1   1   1   1   1\n",
    "      0   0   0   0\n",
    ">```\n",
    ">So, the next value of the second history is 28.\n",
    ">\n",
    ">The third history requires even more sequences, but its next value can be found the same way:\n",
    ">```\n",
    "10  13  16  21  30  45  68\n",
    "   3   3   5   9  15  23\n",
    "     0   2   4   6   8\n",
    "       2   2   2   2\n",
    "         0   0   0\n",
    ">```\n",
    ">So, the next value of the third history is 68.\n",
    ">\n",
    ">If you find the next value for each history in this example and add them together, you get 114.\n",
    ">\n",
    ">Analyze your OASIS report and extrapolate the next value for each history. What is the sum of these extrapolated values?"
   ]
  },
  {
   "cell_type": "markdown",
   "id": "6a213fad",
   "metadata": {},
   "source": [
    "## Read input\n",
    "\n",
    "These kind of days I appreciate a simple input. Each line has space separated numbers and nothing else. No need for regular expressions or other more complex solutions. Split by. that space and convert everything to integer."
   ]
  },
  {
   "cell_type": "code",
   "execution_count": 135,
   "id": "b3985355",
   "metadata": {},
   "outputs": [],
   "source": [
    "from utils import read_input\n",
    "\n",
    "def transformer(line):\n",
    "    return [int(value) for value in line.split(' ')]\n",
    "\n",
    "sequences = read_input(9, transformer)"
   ]
  },
  {
   "cell_type": "markdown",
   "id": "255077bc",
   "metadata": {},
   "source": [
    "To calculate the sequences of previous sequence's differences, I start with the current sequence and loop, calculating a new sequence until the new one is all zeroes.\n",
    "\n",
    "Few day ago I mentioned how [zip](https://docs.python.org/3.3/library/functions.html#zip) is handy when combining two lists. It's also very handy for combining a list with itself. Here I use it to compare two consecutive values in pairs throughout the entire list by zipping `sequence` (all numbers) with `sequence[1:]` (all but first value).\n",
    "\n",
    "To check if a sequence is all zeroes, I use [all](https://docs.python.org/3.3/library/functions.html#all) to check that each difference equal 0.\n",
    "\n",
    "This function also relies on the fact that the puzzle input is one where the differences eventually converge to all zeroes. For an arbitrary input, it will loop forever. Because it's used for this specific puzzle, I'm willing to make this trade-off. "
   ]
  },
  {
   "cell_type": "code",
   "execution_count": 105,
   "id": "c98e5cbd",
   "metadata": {},
   "outputs": [],
   "source": [
    "def create_diff_sequences(sequence):\n",
    "    full_sequence = [sequence[:]]\n",
    "    while True:\n",
    "        current_differences = [\n",
    "            current - previous\n",
    "            for previous, current\n",
    "            in zip(sequence, sequence[1:])\n",
    "        ]\n",
    "        \n",
    "        full_sequence.append(current_differences)\n",
    "        \n",
    "        sequence = current_differences\n",
    "        if all(difference == 0 for difference in current_differences):\n",
    "            break\n",
    "\n",
    "    return full_sequence"
   ]
  },
  {
   "cell_type": "markdown",
   "id": "a19b0c66",
   "metadata": {},
   "source": [
    "To calculate the next number in the original sequence, we first create all difference sequences. We then go through all of them in reverse order pairwise like in the previous function but this time we use [itertools.pairwise](https://docs.python.org/3/library/itertools.html#itertools.pairwise). They both do the same thing - the reason I'm using different ones here is to show what `zip` can do and that `pairwise` exists. \n",
    "\n",
    "We calculate the new value by summing the final numbers in each sequence and add it to the end of the list. Finally, we return the last added value.\n",
    "\n",
    "Final score is the sum of all the new values."
   ]
  },
  {
   "cell_type": "code",
   "execution_count": 112,
   "id": "a6c23753",
   "metadata": {},
   "outputs": [
    {
     "name": "stdout",
     "output_type": "stream",
     "text": [
      "Solution: 1806615041\n"
     ]
    }
   ],
   "source": [
    "from itertools import pairwise\n",
    "\n",
    "def calculate_next_number(sequence):\n",
    "    differences = create_diff_sequences(sequence)\n",
    "    differences = differences[::-1]\n",
    "    for current, previous in pairwise(differences):\n",
    "        previous.append(current[-1] + previous[-1])\n",
    "     \n",
    "    return differences[-1][-1]\n",
    "\n",
    "part_1 = 0\n",
    "for seq in sequences:\n",
    "    part_1 += calculate_next_number(seq)\n",
    "    \n",
    "print(f'Solution: {part_1}')\n",
    "assert part_1 == 1806615041"
   ]
  },
  {
   "cell_type": "markdown",
   "id": "1e45e29a",
   "metadata": {},
   "source": [
    "## Part 2\n",
    "\n",
    ">Of course, it would be nice to have even more history included in your report. Surely it's safe to just extrapolate backwards as well, right?\n",
    ">\n",
    ">For each history, repeat the process of finding differences until the sequence of differences is entirely zero. Then, rather than adding a zero to the end and filling in the next values of each previous sequence, you should instead add a zero to the beginning of your sequence of zeroes, then fill in new first values for each previous sequence.\n",
    ">\n",
    ">In particular, here is what the third example history looks like when extrapolating back in time:\n",
    ">```\n",
    "5  10  13  16  21  30  45\n",
    "  5   3   3   5   9  15\n",
    "   -2   0   2   4   6\n",
    "      2   2   2   2\n",
    "        0   0   0\n",
    ">```\n",
    ">Adding the new values on the left side of each sequence from bottom to top eventually reveals the new left-most history value: 5.\n",
    ">\n",
    ">Doing this for the remaining example data above results in previous values of -3 for the first history and 0 for the second history. Adding all three new values together produces 2.\n",
    ">\n",
    ">Analyze your OASIS report again, this time extrapolating the previous value for each history. What is the sum of these extrapolated values?"
   ]
  },
  {
   "cell_type": "markdown",
   "id": "32324cde",
   "metadata": {},
   "source": [
    "Second part is not that much different from the first. I didn't check if there are any major performance issues if one tries to insert to the beginning of the list but that was my guess would be the issue.\n",
    "\n",
    "So instead, I used [collections.deque](https://docs.python.org/3/library/collections.html#collections.deque) which is a data structure that has efficient way to add numbers to the beginning of the iterable without having to shift all the values around like you'd have to with list. Otherwise, the solution is nearly identical to the first: instead of adding the sum of last values to the end, we add the subtraction of first items to the beginning."
   ]
  },
  {
   "cell_type": "code",
   "execution_count": 133,
   "id": "107c2845",
   "metadata": {},
   "outputs": [],
   "source": [
    "from collections import deque\n",
    "\n",
    "def calculate_prev_number(sequence):\n",
    "    # In a real world situation, I'd just create \n",
    "    # them as deques to begin with but this is \n",
    "    # good enough for the puzzle\n",
    "    differences = [\n",
    "        deque(seq) \n",
    "        for seq \n",
    "        in create_diff_sequences(sequence)[::-1]\n",
    "    ]\n",
    "    \n",
    "    for current, previous in pairwise(differences):\n",
    "        previous.appendleft(previous[0] - current[0])\n",
    "     \n",
    "    return differences[-1][0]"
   ]
  },
  {
   "cell_type": "code",
   "execution_count": 136,
   "id": "ded49d6a",
   "metadata": {},
   "outputs": [
    {
     "name": "stdout",
     "output_type": "stream",
     "text": [
      "Solution: 1211\n"
     ]
    }
   ],
   "source": [
    "part_2 = 0\n",
    "for seq in sequences:\n",
    "    prev = calculate_prev_number(seq)\n",
    "    part_2 += prev\n",
    "    \n",
    "print(f'Solution: {part_2}')\n",
    "assert part_2 == 1211"
   ]
  },
  {
   "cell_type": "markdown",
   "id": "b34a648c",
   "metadata": {},
   "source": [
    "## Two stars!\n",
    "\n",
    "18 is a beautiful number."
   ]
  }
 ],
 "metadata": {
  "kernelspec": {
   "display_name": "Python 3 (ipykernel)",
   "language": "python",
   "name": "python3"
  },
  "language_info": {
   "codemirror_mode": {
    "name": "ipython",
    "version": 3
   },
   "file_extension": ".py",
   "mimetype": "text/x-python",
   "name": "python",
   "nbconvert_exporter": "python",
   "pygments_lexer": "ipython3",
   "version": "3.10.0"
  }
 },
 "nbformat": 4,
 "nbformat_minor": 5
}
