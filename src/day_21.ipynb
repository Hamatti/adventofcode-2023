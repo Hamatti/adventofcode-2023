{
 "cells": [
  {
   "cell_type": "markdown",
   "id": "339bf8a5",
   "metadata": {},
   "source": [
    "> # Day 21: Step Counter\n",
    ">\n",
    ">You manage to catch the airship right as it's dropping someone else off on their all-expenses-paid trip to Desert Island! It even helpfully drops you off near the gardener and his massive farm.\n",
    ">\n",
    ">\"You got the sand flowing again! Great work! Now we just need to wait until we have enough sand to filter the water for Snow Island and we'll have snow again in no time.\"\n",
    ">\n",
    ">While you wait, one of the Elves that works with the gardener heard how good you are at solving problems and would like your help. He needs to get his steps in for the day, and so he'd like to know which garden plots he can reach with exactly his remaining 64 steps.\n",
    ">\n",
    ">He gives you an up-to-date map (your puzzle input) of his starting position (S), garden plots (.), and rocks (#). For example:\n",
    ">```\n",
    ">...........\n",
    ">.....###.#.\n",
    ">.###.##..#.\n",
    ">..#.#...#..\n",
    ">....#.#....\n",
    ">.##..S####.\n",
    ">.##..#...#.\n",
    ">.......##..\n",
    ">.##.#.####.\n",
    ">.##..##.##.\n",
    ">...........\n",
    ">```\n",
    ">The Elf starts at the starting position (S) which also counts as a garden plot. Then, he can take one step north, south, east, or west, but only onto tiles that are garden plots. This would allow him to reach any of the tiles marked O:\n",
    ">```\n",
    ">...........\n",
    ">.....###.#.\n",
    ">.###.##..#.\n",
    ">..#.#...#..\n",
    ">....#O#....\n",
    ">.##.OS####.\n",
    ">.##..#...#.\n",
    ">.......##..\n",
    ">.##.#.####.\n",
    ">.##..##.##.\n",
    ">...........\n",
    ">```\n",
    ">Then, he takes a second step. Since at this point he could be at either tile marked O, his second step would allow him to reach any garden plot that is one step north, south, east, or west of any tile that he could have reached after the first step:\n",
    ">```\n",
    ">...........\n",
    ">.....###.#.\n",
    ">.###.##..#.\n",
    ">..#.#O..#..\n",
    ">....#.#....\n",
    ">.##O.O####.\n",
    ">.##.O#...#.\n",
    ">.......##..\n",
    ">.##.#.####.\n",
    ">.##..##.##.\n",
    ">...........\n",
    ">```\n",
    ">After two steps, he could be at any of the tiles marked O above, including the starting position (either by going north-then-south or by going west-then-east).\n",
    ">\n",
    ">A single third step leads to even more possibilities:\n",
    ">```\n",
    ">...........\n",
    ">.....###.#.\n",
    ">.###.##..#.\n",
    ">..#.#.O.#..\n",
    ">...O#O#....\n",
    ">.##.OS####.\n",
    ">.##O.#...#.\n",
    ">....O..##..\n",
    ">.##.#.####.\n",
    ">.##..##.##.\n",
    ">...........\n",
    ">```\n",
    ">He will continue like this until his steps for the day have been exhausted. After a total of 6 steps, he could reach any of the garden plots marked O:\n",
    ">```\n",
    ">...........\n",
    ">.....###.#.\n",
    ">.###.##.O#.\n",
    ">.O#O#O.O#..\n",
    ">O.O.#.#.O..\n",
    ">.##O.O####.\n",
    ">.##.O#O..#.\n",
    ">.O.O.O.##..\n",
    ">.##.#.####.\n",
    ">.##O.##.##.\n",
    ">...........\n",
    ">```\n",
    ">In this example, if the Elf's goal was to get exactly 6 more steps today, he could use them to reach any of 16 garden plots.\n",
    ">\n",
    ">However, the Elf actually needs to get 64 steps today, and the map he's handed you is much larger than the example map.\n",
    ">\n",
    ">Starting from the garden plot marked S on your map, how many garden plots could the Elf reach in exactly 64 steps?\n",
    ">"
   ]
  },
  {
   "cell_type": "markdown",
   "id": "8d350552",
   "metadata": {},
   "source": [
    "## Read input\n",
    "\n",
    "A very familiar start for a puzzle: we read in a grid!"
   ]
  },
  {
   "cell_type": "code",
   "execution_count": 1,
   "id": "e79db265",
   "metadata": {},
   "outputs": [],
   "source": [
    "class Tile:\n",
    "    START = 'S'\n",
    "    GARDEN_PLOT = '.'\n",
    "    ROCK = '#'"
   ]
  },
  {
   "cell_type": "code",
   "execution_count": 5,
   "id": "3bcf445a",
   "metadata": {},
   "outputs": [],
   "source": [
    "from utils import read_input\n",
    "\n",
    "def initialize(example):\n",
    "    grid = {}\n",
    "    start = None\n",
    "    for y, row in enumerate(read_input(21, example=example)):\n",
    "        for x, cell in enumerate(row):\n",
    "            grid[x+y*-1j] = cell\n",
    "            if cell == Tile.START:\n",
    "                start = x + y*-1j\n",
    "                grid[x + y*-1j] = Tile.GARDEN_PLOT\n",
    "    return grid, start"
   ]
  },
  {
   "cell_type": "code",
   "execution_count": 6,
   "id": "b9fa1b86",
   "metadata": {},
   "outputs": [],
   "source": [
    "def get_neighbors(position):\n",
    "    return [\n",
    "        position + 1,\n",
    "        position - 1,\n",
    "        position + 1j,\n",
    "        position - 1j\n",
    "    ]"
   ]
  },
  {
   "cell_type": "markdown",
   "id": "86cc9030",
   "metadata": {},
   "source": [
    "To walk through the garden, we keep track of the current start points and do `steps` amount of loops. For each step, we go through all of our current positions, get their neighbors, see which ones are garden plots (and thus, walkable) and mark those as the starting point for next round."
   ]
  },
  {
   "cell_type": "code",
   "execution_count": 7,
   "id": "2228917b",
   "metadata": {},
   "outputs": [],
   "source": [
    "def take_steps(start, grid, steps):\n",
    "    current = set([start])\n",
    "    for _ in range(steps):\n",
    "        next_positions = set()\n",
    "        for position in current:\n",
    "            potential_neighbors = get_neighbors(position)\n",
    "            clear_neighbors = [\n",
    "                n \n",
    "                for n \n",
    "                in potential_neighbors  \n",
    "                if grid[n] == Tile.GARDEN_PLOT\n",
    "            ]\n",
    "            next_positions.update(clear_neighbors)\n",
    "        current = next_positions\n",
    "    return current | set([start])"
   ]
  },
  {
   "cell_type": "markdown",
   "id": "80d2f491",
   "metadata": {},
   "source": [
    "Let's take 64 steps and see where we end up in!"
   ]
  },
  {
   "cell_type": "code",
   "execution_count": 8,
   "id": "89b5fdfe",
   "metadata": {
    "scrolled": true
   },
   "outputs": [
    {
     "name": "stdout",
     "output_type": "stream",
     "text": [
      "Solution: 3762\n"
     ]
    }
   ],
   "source": [
    "grid, start = initialize(example=False)\n",
    "\n",
    "part_1 = len(take_steps(start, grid, 64))\n",
    "print(f'Solution: {part_1}')\n",
    "assert part_1 == 3762"
   ]
  },
  {
   "cell_type": "markdown",
   "id": "c5e7544d",
   "metadata": {},
   "source": [
    "## Part 2\n",
    "\n",
    ">The Elf seems confused by your answer until he realizes his mistake: he was reading from a list of his favorite numbers that are both perfect squares and perfect cubes, not his step counter.\n",
    ">\n",
    ">The actual number of steps he needs to get today is exactly 26501365.\n",
    ">\n",
    ">He also points out that the garden plots and rocks are set up so that the map repeats infinitely in every direction.\n",
    ">\n",
    ">So, if you were to look one additional map-width or map-height out from the edge of the example map above, you would find that it keeps repeating:\n",
    ">```\n",
    ">.................................\n",
    ">.....###.#......###.#......###.#.\n",
    ">.###.##..#..###.##..#..###.##..#.\n",
    ">..#.#...#....#.#...#....#.#...#..\n",
    ">....#.#........#.#........#.#....\n",
    ">.##...####..##...####..##...####.\n",
    ">.##..#...#..##..#...#..##..#...#.\n",
    ">.......##.........##.........##..\n",
    ">.##.#.####..##.#.####..##.#.####.\n",
    ">.##..##.##..##..##.##..##..##.##.\n",
    ">.................................\n",
    ">.................................\n",
    ">.....###.#......###.#......###.#.\n",
    ">.###.##..#..###.##..#..###.##..#.\n",
    ">..#.#...#....#.#...#....#.#...#..\n",
    ">....#.#........#.#........#.#....\n",
    ">.##...####..##..S####..##...####.\n",
    ">.##..#...#..##..#...#..##..#...#.\n",
    ">.......##.........##.........##..\n",
    ">.##.#.####..##.#.####..##.#.####.\n",
    ">.##..##.##..##..##.##..##..##.##.\n",
    ">.................................\n",
    ">.................................\n",
    ">.....###.#......###.#......###.#.\n",
    ">.###.##..#..###.##..#..###.##..#.\n",
    ">..#.#...#....#.#...#....#.#...#..\n",
    ">....#.#........#.#........#.#....\n",
    ">.##...####..##...####..##...####.\n",
    ">.##..#...#..##..#...#..##..#...#.\n",
    ">.......##.........##.........##..\n",
    ">.##.#.####..##.#.####..##.#.####.\n",
    ">.##..##.##..##..##.##..##..##.##.\n",
    ">.................................\n",
    ">```\n",
    ">This is just a tiny three-map-by-three-map slice of the inexplicably-infinite farm layout; garden plots and rocks repeat as far as you can see. The Elf still starts on the one middle tile marked S, though - every other repeated S is replaced with a normal garden plot (.).\n",
    ">\n",
    ">Here are the number of reachable garden plots in this new infinite version of the example map for different numbers of steps:\n",
    ">\n",
    "> - In exactly `6` steps, he can still reach `16` garden plots.\n",
    "> - In exactly `10` steps, he can reach any of `50` garden plots.\n",
    "> - In exactly `50` steps, he can reach `1594` garden plots.\n",
    "> - In exactly `100` steps, he can reach `6536` garden plots.\n",
    "> - In exactly `500` steps, he can reach `167004` garden plots.\n",
    "> - In exactly `1000` steps, he can reach `668697` garden plots.\n",
    "> - In exactly `5000` steps, he can reach `16733044` garden plots.\n",
    ">\n",
    ">However, the step count the Elf needs is much larger! Starting from the garden plot marked S on your infinite map, how many garden plots could the Elf reach in exactly 26501365 steps?"
   ]
  },
  {
   "cell_type": "markdown",
   "id": "8369c931",
   "metadata": {},
   "source": [
    "Since we're dealing with infinitely repeating grids, we need to first have a calculation in place to get the in-grid coordinate for any out-of-grid position.\n",
    "\n",
    "Since we're using the Complex Number Coordinate System, it looks like this:"
   ]
  },
  {
   "cell_type": "code",
   "execution_count": 9,
   "id": "5651f0c8",
   "metadata": {},
   "outputs": [],
   "source": [
    "from functools import cache\n",
    "\n",
    "\n",
    "@cache\n",
    "def calculate_in_grid_position(n, width, height):\n",
    "    x = int(n.real)\n",
    "    y = int(n.imag)\n",
    "    \n",
    "    if x < 0 or x >= width:\n",
    "        x = x % width\n",
    "    if y > 0 or y <= (height * -1):\n",
    "        y = (y*-1 % height) * -1\n",
    "\n",
    "    return x+y * 1j"
   ]
  },
  {
   "cell_type": "markdown",
   "id": "bcfeeae0",
   "metadata": {},
   "source": [
    "This infinite grid version of taking the steps is otherwise same as in part 1 but if we're not in the original grid, we calculate the matching in-grid coordinate and see if it's safe to step into."
   ]
  },
  {
   "cell_type": "code",
   "execution_count": 10,
   "id": "7af6a1e3",
   "metadata": {},
   "outputs": [],
   "source": [
    "def take_steps_2(start, grid, steps):\n",
    "    width = int(max(c.real for c in grid)) + 1\n",
    "    height = abs(int(min(c.imag for c in grid))) + 1\n",
    "    current = set([start])\n",
    "\n",
    "    for step in range(steps):\n",
    "        next_positions = set()\n",
    "        for position in current:\n",
    "            potential_neighbors = get_neighbors(position)\n",
    "            clear_neighbors = set()\n",
    "            for n in potential_neighbors:\n",
    "                if n in grid and grid[n] == Tile.GARDEN_PLOT:\n",
    "                    clear_neighbors.add(n)\n",
    "                elif n not in grid:\n",
    "                    in_grid_n = calculate_in_grid_position(n, width, height)\n",
    "                    if grid[in_grid_n] == Tile.GARDEN_PLOT:\n",
    "                        clear_neighbors.add(n)\n",
    "            next_positions.update(clear_neighbors)\n",
    "        current = next_positions\n",
    "\n",
    "    return current | set([start])"
   ]
  },
  {
   "cell_type": "markdown",
   "id": "027b8414",
   "metadata": {},
   "source": [
    "To keep iterating over my solution while improving its efficiency, I created this helper cell block that walks through the given example results to help me make sure I don't introduce any bugs.\n",
    "\n",
    "On the first iteration, I managed to get up to 500 steps in short time, 500 in long time and 1000+ was already too much."
   ]
  },
  {
   "cell_type": "code",
   "execution_count": null,
   "id": "89f3e87a",
   "metadata": {
    "scrolled": false
   },
   "outputs": [],
   "source": [
    "EXAMPLE = True\n",
    "grid, start = initialize()\n",
    "correct = [16, 50, 1594, 6536, 167004, 668697, 16733044]\n",
    "\n",
    "for i, steps in enumerate([6, 10, 50, 100, 500, 1000, 5000]):\n",
    "    print(f'=== {steps} ===')\n",
    "    result = len(take_steps_2(start, grid, steps))\n",
    "    assert result == correct[i], f\"Mismatch: in {steps}: actual: {result} != expected: {correct[i]}\"\n",
    "    print('OK')"
   ]
  },
  {
   "cell_type": "markdown",
   "id": "fb690cdf",
   "metadata": {},
   "source": [
    "Then we could calculate the end result for this huge amount of steps (I wonder how long it would take for this elf to take this many steps...)\n",
    "\n",
    "My current solution _works_ but not efficient enough to get a result for such a huge number.\n",
    "\n",
    "I tried a few things but after reading some discussions, this is apparently **hard** so I'm stopping here."
   ]
  },
  {
   "cell_type": "code",
   "execution_count": null,
   "id": "fc2045be",
   "metadata": {},
   "outputs": [],
   "source": [
    "# part_2 = len(take_steps_2(start, grid, 26501365))\n",
    "print(f'Solution: {part_2}')"
   ]
  },
  {
   "cell_type": "markdown",
   "id": "5b8fe972",
   "metadata": {},
   "source": [
    "## One star closer to Christmas\n",
    "\n",
    "Here we are, at 36 stars out of the possible 42 with 4 days to go. Realistically, I think I'll be able to hit 40 stars this year, maybe 42 if I revisit day 20 that I skipped completely."
   ]
  }
 ],
 "metadata": {
  "kernelspec": {
   "display_name": "Python 3 (ipykernel)",
   "language": "python",
   "name": "python3"
  },
  "language_info": {
   "codemirror_mode": {
    "name": "ipython",
    "version": 3
   },
   "file_extension": ".py",
   "mimetype": "text/x-python",
   "name": "python",
   "nbconvert_exporter": "python",
   "pygments_lexer": "ipython3",
   "version": "3.10.0"
  }
 },
 "nbformat": 4,
 "nbformat_minor": 5
}
