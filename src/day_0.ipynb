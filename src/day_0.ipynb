{
 "cells": [
  {
   "cell_type": "markdown",
   "id": "b61029fa",
   "metadata": {},
   "source": [
    "# Juhis solves Advent of Code 2023 with Python\n",
    "\n",
    "Welcome to my annual [Advent of Code](https://adventofcode.com/) solutions.\n",
    "\n",
    "## What is this Advent of Code anyway?\n",
    "\n",
    "If you're new to all this, welcome! [Advent of Code](https://adventofcode.com) is an annual Christmas themed puzzle calendar for programmers. Every day, it provides you with a puzzle that consists of a description and text input. Your task is to find a (usually numeric) solution by any way you want – often by writing code that reads the input, performs actions and prints out the solution. If you get it correct, you'll get a second part of the puzzle that usually builds on top of the first one.\n",
    "\n",
    "I have written down [tips based on my many years with these puzzles](https://hamatti.org/posts/tips-for-advent-of-code/).\n",
    "\n",
    "I solve these daily puzzles with Python, using just standard library (and Jupyter Notebook).\n",
    "\n",
    "While solving them, I write about my solutions, aim to write beginner-friendly code and explain my solutions and the standard library tools I use.\n",
    "\n",
    "My goal is to help people new to programming and new to Python to learn new things while having fun with helping Santa.\n",
    "\n",
    "Whether you decide to crack these puzzles yourself or are just reading along to learn more about Python, software development and puzzle solving, welcome along the journey with me."
   ]
  },
  {
   "cell_type": "markdown",
   "id": "180577c1",
   "metadata": {},
   "source": [
    "## Prep on day 0 - utility file\n",
    "\n",
    "When I see something being done all over again in different puzzles, I write utility functions in `src/utils.py`.\n",
    "\n",
    "At this point, I start with a function that is used almost every day, every year: a way to read the puzzle input."
   ]
  },
  {
   "cell_type": "code",
   "execution_count": null,
   "id": "4f1205d8",
   "metadata": {},
   "outputs": [],
   "source": [
    "import os\n",
    "import sys\n",
    "\n",
    "def read_input(day, transformer=str, example=False):\n",
    "    \"\"\"\n",
    "    Read puzzle input for file `/inputs/day_{day}.txt'\n",
    "    and apply transformer function to each line.\n",
    "\n",
    "    If `example` is set to True, read file `/inputs/day_{day}_example.txt`\n",
    "    instead\n",
    "    \"\"\"\n",
    "\n",
    "    try:\n",
    "        if example:\n",
    "            filename = f'day_{day}_example.txt'\n",
    "        else:\n",
    "            filename = f'day_{day}.txt'\n",
    "        with open(os.path.join('..', 'inputs', filename)) as input_file:\n",
    "            return [transformer(line) for line in input_file]\n",
    "    except FileNotFoundError as e:\n",
    "        print(e)\n",
    "        sys.exit(1)"
   ]
  },
  {
   "cell_type": "markdown",
   "id": "343b74d7",
   "metadata": {},
   "source": [
    "My `read_input` function takes three arguments:\n",
    "\n",
    "- `day` which is an integer between 1 and 25\n",
    "- `transformer` a function that is run on each line. This makes it possible to do type conversion (like passing `int` to get integer values or a function that splits the line on a given value.\n",
    "- `example` is a boolean that indicates if I want to run the solution against the example input provided by Advent of Code or the actual input.\n",
    "\n",
    "This function has evolved into this over the multiple years I've solved these puzzles."
   ]
  },
  {
   "cell_type": "markdown",
   "id": "f2782a11",
   "metadata": {},
   "source": [
    "## I'm ready for 2023!\n",
    "\n",
    "I'll share my solutions with explanations here daily as I solve them. See you tomorrow!"
   ]
  }
 ],
 "metadata": {
  "kernelspec": {
   "display_name": "Python 3 (ipykernel)",
   "language": "python",
   "name": "python3"
  },
  "language_info": {
   "codemirror_mode": {
    "name": "ipython",
    "version": 3
   },
   "file_extension": ".py",
   "mimetype": "text/x-python",
   "name": "python",
   "nbconvert_exporter": "python",
   "pygments_lexer": "ipython3",
   "version": "3.10.0"
  }
 },
 "nbformat": 4,
 "nbformat_minor": 5
}
